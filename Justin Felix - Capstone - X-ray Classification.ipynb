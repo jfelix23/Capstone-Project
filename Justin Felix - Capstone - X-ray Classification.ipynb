{
 "cells": [
  {
   "cell_type": "code",
   "execution_count": 1,
   "metadata": {
    "id": "x0Z7hjK6Tc7x"
   },
   "outputs": [],
   "source": [
    "# pip install \"dask[diagnostics]\""
   ]
  },
  {
   "cell_type": "code",
   "execution_count": 2,
   "metadata": {
    "id": "3frQMhCzTc73",
    "scrolled": true
   },
   "outputs": [],
   "source": [
    "# pip install dask "
   ]
  },
  {
   "cell_type": "markdown",
   "metadata": {
    "id": "20GUZDylTc76"
   },
   "source": [
    "Must be run using deeplearning environment.  This notebook is based off the VGG16 kickoff example done in class."
   ]
  },
  {
   "cell_type": "markdown",
   "metadata": {
    "id": "bm2Kd88FD0cA"
   },
   "source": [
    "# Transfer Learning \n",
    "\n",
    "Convolutional Neural Network (CNN) to classify x-ray images of lungs. \n",
    "\n",
    "**Specifically, we will be leveraging the power of transfer learning to teach the pre-trained NN `keras.applications.VGG16` to classify images of pneumonia versus normal x-rays of lungs.**\n",
    "\n",
    "The images that we will be using are from kaggle: https://www.kaggle.com/code/amyjang/tensorflow-pneumonia-classification-on-x-rays/data "
   ]
  },
  {
   "cell_type": "code",
   "execution_count": 3,
   "metadata": {
    "id": "J7beXuCHD0cD"
   },
   "outputs": [],
   "source": [
    "# Imports\n",
    "# The usual\n",
    "import pandas as pd\n",
    "import numpy as np\n",
    "import matplotlib.pyplot as plt\n",
    "%matplotlib inline\n",
    "from sklearn.metrics import precision_score\n",
    "from sklearn.metrics import recall_score\n",
    "from sklearn.metrics import classification_report\n",
    "import os, sys\n",
    "import cv2\n",
    "import joblib\n",
    "import glob\n",
    "import dask.bag as bag\n",
    "import dask.array as da\n",
    "from dask.diagnostics import ProgressBar\n",
    "from PIL import Image\n",
    "\n",
    "# Importing tf tools\n",
    "import tensorflow as tf\n",
    "from tensorflow.keras.layers import Dense,Dropout\n",
    "from tensorflow.keras.applications import VGG16\n",
    "from tensorflow.keras.preprocessing.image import ImageDataGenerator\n",
    "from tensorflow.keras.optimizers import Adam\n",
    "from tensorflow.keras.callbacks import EarlyStopping\n",
    "from tensorflow.keras.models import Model, Sequential\n",
    "\n",
    "from tqdm import tqdm"
   ]
  },
  {
   "cell_type": "markdown",
   "metadata": {
    "id": "rP-HFYlATc8C"
   },
   "source": [
    "## Function Definitions"
   ]
  },
  {
   "cell_type": "code",
   "execution_count": 4,
   "metadata": {
    "id": "dtWylygyTc8D"
   },
   "outputs": [],
   "source": [
    "# taken from https://medium.com/geekculture/eda-for-image-classification-dcada9f2567a\n",
    "# however, had to modify this because when called, some of the images in Class 1 were 3 dimenions \n",
    "# in terms of the shape of the image\n",
    "#def get_dims(file):\n",
    "#    '''Returns dimensions for an RBG image'''\n",
    "#    im = Image.open(file)\n",
    "#    arr = np.array(im)\n",
    "#    h,w = arr.shape\n",
    "#    return h,w\n",
    "\n",
    "def get_dims(file):\n",
    "    '''Returns dimenstions for an RBG image'''\n",
    "    #im = Image.open(file)\n",
    "    im = cv2.imread(file,cv2.IMREAD_UNCHANGED)\n",
    "    arr = np.array(im)\n",
    "    if len(arr.shape) == 2:\n",
    "        h,w = arr.shape\n",
    "    else:\n",
    "        h,w,d = arr.shape\n",
    "    return h,w"
   ]
  },
  {
   "cell_type": "code",
   "execution_count": 5,
   "metadata": {
    "id": "zJeaGDDITc8F"
   },
   "outputs": [],
   "source": [
    "def dim_count(directory):\n",
    "    dim2 = 0\n",
    "    dim3 = 0\n",
    "    dim0 = 0\n",
    "    note = directory.split(\"/\")\n",
    "    '''Checks dimensions of each image in the folder and plots the results'''\n",
    "    #loop through the directory to get the shape of each image\n",
    "    for filename in os.listdir(directory):\n",
    "        f = os.path.join(directory, filename)\n",
    "        if os.path.isfile(f):\n",
    "            img = cv2.imread(f,cv2.IMREAD_UNCHANGED)\n",
    "            dimensions = img.shape\n",
    "            size2 = len(dimensions)\n",
    "            if size2 == 2:\n",
    "                dim2 += 1\n",
    "            elif size2 == 3:\n",
    "                dim3 += 1\n",
    "            else:\n",
    "                dim0 += 1\n",
    "                \n",
    "    #Plot the sum of each category of dimensions\n",
    "    plt.bar(['2 dimensions','3 dimensions', 'Other'],[dim2, dim3, dim0], width = .5);\n",
    "    plt.title(f'Count of Images per Dimension in the {note[3]} {note[4]} Set');\n",
    "    plt.xlabel('Number of Dimensions');\n",
    "    plt.ylabel('# Images');\n",
    "    print(f'There are {dim2} images with 2 dimensions, {dim3} with 3 and {dim0} with other.')\n",
    "    return(dim2, dim3)"
   ]
  },
  {
   "cell_type": "code",
   "execution_count": 6,
   "metadata": {
    "id": "GQ6pfihRTc8G"
   },
   "outputs": [],
   "source": [
    "def max_file_size(directory):\n",
    "    # Get list of files in a directory\n",
    "    list_of_files = filter( os.path.isfile, glob.glob(  directory + '/*') )\n",
    "    # Find the file with max size from the list of files\n",
    "    max_file = max( list_of_files, key =  lambda x: os.stat(x).st_size)\n",
    "    print('Max File: ', max_file)\n",
    "    print('Max File size in bytes: ', os.stat(max_file).st_size)"
   ]
  },
  {
   "cell_type": "code",
   "execution_count": 7,
   "metadata": {
    "id": "HyRQR8MnTc8I"
   },
   "outputs": [],
   "source": [
    "def min_file_size(directory):\n",
    "    # Get list of files in a directory\n",
    "    list_of_files = filter( os.path.isfile, glob.glob(  directory + '/*') )\n",
    "    # Find the file with max size from the list of files\n",
    "    min_file = min( list_of_files, key =  lambda x: os.stat(x).st_size)\n",
    "    print('Min File: ', min_file)\n",
    "    print('Min File size in bytes: ', os.stat(min_file).st_size)"
   ]
  },
  {
   "cell_type": "code",
   "execution_count": 8,
   "metadata": {
    "id": "d8I9VfK4Tc8K"
   },
   "outputs": [],
   "source": [
    "def plot_count(directory1):\n",
    "\n",
    "    number_classes = {'Class_0': len(os.listdir(directory1 + 'NORMAL' )), 'Class_1': len(os.listdir(directory1 + 'PNEUMONIA'))}\n",
    "    plt.figure()\n",
    "    plt.bar(number_classes.keys(), number_classes.values(), width = .5)\n",
    "    plt.title(\"Number of Images by Class\")\n",
    "    plt.xlabel('Class Name')\n",
    "    plt.ylabel('# Images')\n",
    "    plt.show()\n",
    "    print('There are', len(os.listdir(directory1 + 'NORMAL' )), 'Class 0 images and', len(os.listdir(directory1 + 'PNEUMONIA')), 'of Class 1 in folder', directory1 + '.')"
   ]
  },
  {
   "cell_type": "markdown",
   "metadata": {
    "id": "IhsR2lgbD0cD"
   },
   "source": [
    "## Setting Up the Paths and EDA"
   ]
  },
  {
   "cell_type": "code",
   "execution_count": 9,
   "metadata": {
    "id": "6x9vkNUyD0cE"
   },
   "outputs": [],
   "source": [
    "# Assigning the relative path of the 'capstone' directory to variable 'path' (so we don't have to keep repeating it)\n",
    "TRAIN_PATH = './Data/capstone/train/'\n",
    "TEST_PATH = './Data/capstone/test/'\n",
    "NORMAL_TRAIN = './Data/capstone/train/NORMAL'\n",
    "PNEUMONIA_TRAIN = './Data/capstone/train/PNEUMONIA'\n",
    "NORMAL_TEST = './Data/capstone/test/NORMAL'\n",
    "PNEUMONIA_TEST = './Data/capstone/test/PNEUMONIA'\n",
    "directories = {'Class_0_Train': './Data/capstone/train/NORMAL/', 'Class_1_Train': './Data/capstone/train/PNEUMONIA/',\n",
    "               'Class_0_Val': './Data/capstone/Val/NORMAL/', 'Class_1_Val': './Data/capstone/Val/PNEUMONIA/',\n",
    "               'Class_0_Test': './Data/capstone/test/NORMAL/', 'Class_1_Test': './Data/capstone/test/PNEUMONIA/'}\n"
   ]
  },
  {
   "cell_type": "markdown",
   "metadata": {
    "id": "Si-cSwjxTc8M"
   },
   "source": [
    "### Plot Count of Each Class in Training and Test Folders"
   ]
  },
  {
   "cell_type": "code",
   "execution_count": 10,
   "metadata": {
    "id": "gcEwiQW_Tc8N"
   },
   "outputs": [],
   "source": [
    "# Assign the classes and folders to a dictionary called number of classes\n",
    "number_classes = {'Class_0': len(os.listdir(NORMAL_TRAIN)),\n",
    "'Class_1': len(os.listdir(PNEUMONIA_TRAIN))}"
   ]
  },
  {
   "cell_type": "code",
   "execution_count": 11,
   "metadata": {
    "id": "ADObHlnHTc8N",
    "outputId": "6295c989-fc04-4adb-fd85-e53ab2fcbdd8"
   },
   "outputs": [
    {
     "name": "stdout",
     "output_type": "stream",
     "text": [
      "dict_items([('Class_0', 1341), ('Class_1', 3875)])\n"
     ]
    }
   ],
   "source": [
    "# Print the number of objects of Class 0 and 1 in the training folder\n",
    "print(number_classes.items())"
   ]
  },
  {
   "cell_type": "code",
   "execution_count": 12,
   "metadata": {
    "id": "UnkCOK-6Tc8Q",
    "outputId": "9095d3d1-ccb1-4937-f0c3-083fa28190f1"
   },
   "outputs": [
    {
     "data": {
      "image/png": "[encoded data removed]",
      "text/plain": [
       "<Figure size 432x288 with 1 Axes>"
      ]
     },
     "metadata": {
      "needs_background": "light"
     },
     "output_type": "display_data"
    }
   ],
   "source": [
    "# Plot the distribution of class 0 and class 1 images in the training folder.\n",
    "plt.bar(number_classes.keys(), number_classes.values(), width = .5);\n",
    "plt.title(\"Number of Images by Class\");\n",
    "plt.xlabel('Class Name');\n",
    "plt.ylabel('# Images');"
   ]
  },
  {
   "cell_type": "code",
   "execution_count": 13,
   "metadata": {
    "id": "b6m58EHzTc8R",
    "outputId": "064cf608-8a68-4a08-f388-15e767a0a2ca"
   },
   "outputs": [
    {
     "name": "stdout",
     "output_type": "stream",
     "text": [
      "There are 1341 Class 0 images and 3875 of Class 1 in folder ./Data/capstone/train/PNEUMONIA.\n"
     ]
    }
   ],
   "source": [
    "print('There are', len(os.listdir(NORMAL_TRAIN)), 'Class 0 images and', len(os.listdir(PNEUMONIA_TRAIN)), 'of Class 1 in folder', PNEUMONIA_TRAIN +'.')"
   ]
  },
  {
   "cell_type": "code",
   "execution_count": 14,
   "metadata": {
    "id": "mzsKM5auTc8S",
    "outputId": "bec8f62d-62d1-489d-9989-4afc1bc9c922"
   },
   "outputs": [
    {
     "data": {
      "image/png": "[encoded data removed]",
      "text/plain": [
       "<Figure size 432x288 with 1 Axes>"
      ]
     },
     "metadata": {
      "needs_background": "light"
     },
     "output_type": "display_data"
    },
    {
     "name": "stdout",
     "output_type": "stream",
     "text": [
      "There are 234 Class 0 images and 390 of Class 1 in folder ./Data/capstone/test/.\n"
     ]
    }
   ],
   "source": [
    "# Same as above but with using a definition and variable set to the Test folder.\n",
    "plot_count(TEST_PATH)\n"
   ]
  },
  {
   "cell_type": "code",
   "execution_count": 15,
   "metadata": {
    "id": "FE04CUsbTc8V",
    "outputId": "5b01496d-eb5c-46d1-95de-627f99c448ef"
   },
   "outputs": [
    {
     "name": "stdout",
     "output_type": "stream",
     "text": [
      "dict_items([('Class_0_Train', './Data/capstone/train/NORMAL/'), ('Class_1_Train', './Data/capstone/train/PNEUMONIA/'), ('Class_0_Val', './Data/capstone/Val/NORMAL/'), ('Class_1_Val', './Data/capstone/Val/PNEUMONIA/'), ('Class_0_Test', './Data/capstone/test/NORMAL/'), ('Class_1_Test', './Data/capstone/test/PNEUMONIA/')])\n"
     ]
    }
   ],
   "source": [
    "# Check what was defined in the directories variable\n",
    "print(directories.items())"
   ]
  },
  {
   "cell_type": "code",
   "execution_count": 16,
   "metadata": {
    "id": "My15UA0HTc8W",
    "outputId": "7160452a-f11d-4c6d-ad6a-0eb6bee01681"
   },
   "outputs": [
    {
     "name": "stdout",
     "output_type": "stream",
     "text": [
      "[########################################] | 100% Completed | 15.05 s\n",
      "[########################################] | 100% Completed | 13.70 s\n",
      "[########################################] | 100% Completed | 1.35 ss\n",
      "[########################################] | 100% Completed | 1.27 ss\n",
      "[########################################] | 100% Completed | 3.13 ss\n",
      "[########################################] | 100% Completed | 3.02 ss\n"
     ]
    },
    {
     "data": {
      "image/png": "[encoded data removed]",
      "text/plain": [
       "<Figure size 432x288 with 1 Axes>"
      ]
     },
     "metadata": {
      "needs_background": "light"
     },
     "output_type": "display_data"
    },
    {
     "data": {
      "image/png": "[encoded data removed]",
      "text/plain": [
       "<Figure size 432x288 with 1 Axes>"
      ]
     },
     "metadata": {
      "needs_background": "light"
     },
     "output_type": "display_data"
    },
    {
     "data": {
      "image/png": "[encoded data removed]",
      "text/plain": [
       "<Figure size 432x288 with 1 Axes>"
      ]
     },
     "metadata": {
      "needs_background": "light"
     },
     "output_type": "display_data"
    },
    {
     "data": {
      "image/png": "[encoded data removed]",
      "text/plain": [
       "<Figure size 432x288 with 1 Axes>"
      ]
     },
     "metadata": {
      "needs_background": "light"
     },
     "output_type": "display_data"
    },
    {
     "data": {
      "image/png": "[encoded data removed]",
      "text/plain": [
       "<Figure size 432x288 with 1 Axes>"
      ]
     },
     "metadata": {
      "needs_background": "light"
     },
     "output_type": "display_data"
    },
    {
     "data": {
      "image/png": "[encoded data removed]",
      "text/plain": [
       "<Figure size 432x288 with 1 Axes>"
      ]
     },
     "metadata": {
      "needs_background": "light"
     },
     "output_type": "display_data"
    }
   ],
   "source": [
    "# taken from https://medium.com/geekculture/eda-for-image-classification-dcada9f2567a\n",
    "# This will loop through the directories defined and create a scatter plot of each file based on each class in the directory\n",
    "for n,d in directories.items():\n",
    "    filepath = d\n",
    "    filelist = [filepath + f for f in os.listdir(filepath)]\n",
    "    dims = bag.from_sequence(filelist).map(get_dims)\n",
    "    with ProgressBar():\n",
    "        dims = dims.compute()\n",
    "        dim_df = pd.DataFrame(dims, columns=['height', 'width'])\n",
    "        sizes = dim_df.groupby(['height', 'width']).size().reset_index().rename(columns={0:'count'})\n",
    "        sizes.plot.scatter(x='width', y='height');\n",
    "        plt.title('Image Sizes (pixels) | {}'.format(n))"
   ]
  },
  {
   "cell_type": "markdown",
   "metadata": {
    "id": "6Sg4uXQoTc8Y"
   },
   "source": [
    "As the above scatter plots show, the images range in pixels so they will have to be augmented to a consistent size to run in a model."
   ]
  },
  {
   "cell_type": "markdown",
   "metadata": {
    "id": "PM6nN1qqTc8Z"
   },
   "source": [
    "### Getting Max and Min Size of Files in Training and Test Folders"
   ]
  },
  {
   "cell_type": "code",
   "execution_count": 17,
   "metadata": {
    "colab": {
     "base_uri": "https://localhost:8080/",
     "height": 218
    },
    "executionInfo": {
     "elapsed": 14,
     "status": "error",
     "timestamp": 1661637418120,
     "user": {
      "displayName": "Justin Felix",
      "userId": "02432833530744752532"
     },
     "user_tz": 240
    },
    "id": "JgNuTvClTc8a",
    "outputId": "d84daea0-3ce3-43b2-aa92-ee2a0945af81"
   },
   "outputs": [
    {
     "name": "stdout",
     "output_type": "stream",
     "text": [
      "Max File:  ./Data/capstone/train/NORMAL\\NORMAL2-IM-1257-0001.jpeg\n",
      "Max File size in bytes:  2414342\n",
      "Max File:  ./Data/capstone/train/PNEUMONIA\\person279_bacteria_1315.jpeg\n",
      "Max File size in bytes:  597038\n",
      "Max File:  ./Data/capstone/Val/NORMAL\\NORMAL2-IM-1440-0001.jpeg\n",
      "Max File size in bytes:  530145\n",
      "Max File:  ./Data/capstone/Val/PNEUMONIA\\person1954_bacteria_4886.jpeg\n",
      "Max File size in bytes:  119629\n",
      "Max File:  ./Data/capstone/test/NORMAL\\IM-0045-0001.jpeg\n",
      "Max File size in bytes:  723830\n",
      "Max File:  ./Data/capstone/test/PNEUMONIA\\person16_virus_47.jpeg\n",
      "Max File size in bytes:  262329\n"
     ]
    }
   ],
   "source": [
    "# taken from https://medium.com/geekculture/eda-for-image-classification-dcada9f2567a\n",
    "for n,d in directories.items():\n",
    "    filepath = d\n",
    "    max_file_size(d)"
   ]
  },
  {
   "cell_type": "code",
   "execution_count": 18,
   "metadata": {
    "colab": {
     "base_uri": "https://localhost:8080/",
     "height": 207
    },
    "executionInfo": {
     "elapsed": 14,
     "status": "error",
     "timestamp": 1661637418123,
     "user": {
      "displayName": "Justin Felix",
      "userId": "02432833530744752532"
     },
     "user_tz": 240
    },
    "id": "8uCxK7Y6Tc8b",
    "outputId": "b741968a-f66a-41e5-c19b-07b893f9f35d"
   },
   "outputs": [
    {
     "name": "stdout",
     "output_type": "stream",
     "text": [
      "Min File:  ./Data/capstone/train/NORMAL\\NORMAL2-IM-1356-0001.jpeg\n",
      "Min File size in bytes:  131499\n",
      "Min File:  ./Data/capstone/train/PNEUMONIA\\person325_virus_660.jpeg\n",
      "Min File size in bytes:  5441\n",
      "Min File:  ./Data/capstone/Val/NORMAL\\NORMAL2-IM-1438-0001.jpeg\n",
      "Min File size in bytes:  170888\n",
      "Min File:  ./Data/capstone/Val/PNEUMONIA\\person1951_bacteria_4882.jpeg\n",
      "Min File size in bytes:  49271\n",
      "Min File:  ./Data/capstone/test/NORMAL\\NORMAL2-IM-0256-0001.jpeg\n",
      "Min File size in bytes:  46174\n",
      "Min File:  ./Data/capstone/test/PNEUMONIA\\person78_bacteria_378.jpeg\n",
      "Min File size in bytes:  19666\n"
     ]
    }
   ],
   "source": [
    "for n,d in directories.items():\n",
    "    filepath = d\n",
    "    min_file_size(d)"
   ]
  },
  {
   "cell_type": "markdown",
   "metadata": {
    "id": "uue1an4MTc8b"
   },
   "source": [
    "### Checking Dimension of Files in Training and Test Folders"
   ]
  },
  {
   "cell_type": "code",
   "execution_count": 19,
   "metadata": {
    "colab": {
     "base_uri": "https://localhost:8080/",
     "height": 207
    },
    "executionInfo": {
     "elapsed": 23,
     "status": "error",
     "timestamp": 1661637413208,
     "user": {
      "displayName": "Justin Felix",
      "userId": "02432833530744752532"
     },
     "user_tz": 240
    },
    "id": "pJjhKHJ_Tc8c",
    "outputId": "b3d41098-b5ee-4e4f-89da-d98067ffee9e",
    "scrolled": true
   },
   "outputs": [
    {
     "name": "stdout",
     "output_type": "stream",
     "text": [
      "There are 1341 images with 2 dimensions, 0 with 3 and 0 with other.\n"
     ]
    },
    {
     "data": {
      "text/plain": [
       "(1341, 0)"
      ]
     },
     "execution_count": 19,
     "metadata": {},
     "output_type": "execute_result"
    },
    {
     "data": {
      "image/png": "[encoded data removed]",
      "text/plain": [
       "<Figure size 432x288 with 1 Axes>"
      ]
     },
     "metadata": {
      "needs_background": "light"
     },
     "output_type": "display_data"
    }
   ],
   "source": [
    "#Set the path the to the Normal training folder\n",
    "directory = (NORMAL_TRAIN)\n",
    "dim_count(directory)\n"
   ]
  },
  {
   "cell_type": "code",
   "execution_count": 20,
   "metadata": {
    "executionInfo": {
     "elapsed": 14,
     "status": "aborted",
     "timestamp": 1661637413210,
     "user": {
      "displayName": "Justin Felix",
      "userId": "02432833530744752532"
     },
     "user_tz": 240
    },
    "id": "YwDb0BaKTc8c"
   },
   "outputs": [
    {
     "name": "stdout",
     "output_type": "stream",
     "text": [
      "There are 3592 images with 2 dimensions, 283 with 3 and 0 with other.\n"
     ]
    },
    {
     "data": {
      "text/plain": [
       "(3592, 283)"
      ]
     },
     "execution_count": 20,
     "metadata": {},
     "output_type": "execute_result"
    },
    {
     "data": {
      "image/png": "[encoded data removed]",
      "text/plain": [
       "<Figure size 432x288 with 1 Axes>"
      ]
     },
     "metadata": {
      "needs_background": "light"
     },
     "output_type": "display_data"
    }
   ],
   "source": [
    "#Set the path the to the Pneumonia folder and plot the results\n",
    "directory = PNEUMONIA_TRAIN\n",
    "dim_count(directory)"
   ]
  },
  {
   "cell_type": "code",
   "execution_count": 21,
   "metadata": {
    "executionInfo": {
     "elapsed": 15,
     "status": "aborted",
     "timestamp": 1661637413213,
     "user": {
      "displayName": "Justin Felix",
      "userId": "02432833530744752532"
     },
     "user_tz": 240
    },
    "id": "gYGE-yJLTc8d"
   },
   "outputs": [
    {
     "name": "stdout",
     "output_type": "stream",
     "text": [
      "There are 234 images with 2 dimensions, 0 with 3 and 0 with other.\n"
     ]
    },
    {
     "data": {
      "text/plain": [
       "(234, 0)"
      ]
     },
     "execution_count": 21,
     "metadata": {},
     "output_type": "execute_result"
    },
    {
     "data": {
      "image/png": "[encoded data removed]",
      "text/plain": [
       "<Figure size 432x288 with 1 Axes>"
      ]
     },
     "metadata": {
      "needs_background": "light"
     },
     "output_type": "display_data"
    }
   ],
   "source": [
    "#Set the path the to the Normal training folder\n",
    "directory = (NORMAL_TEST)\n",
    "dim_count(directory)\n"
   ]
  },
  {
   "cell_type": "code",
   "execution_count": 22,
   "metadata": {
    "executionInfo": {
     "elapsed": 17,
     "status": "aborted",
     "timestamp": 1661637413215,
     "user": {
      "displayName": "Justin Felix",
      "userId": "02432833530744752532"
     },
     "user_tz": 240
    },
    "id": "wOd5jY76Tc8d"
   },
   "outputs": [
    {
     "name": "stdout",
     "output_type": "stream",
     "text": [
      "There are 390 images with 2 dimensions, 0 with 3 and 0 with other.\n"
     ]
    },
    {
     "data": {
      "text/plain": [
       "(390, 0)"
      ]
     },
     "execution_count": 22,
     "metadata": {},
     "output_type": "execute_result"
    },
    {
     "data": {
      "image/png": "[encoded data removed]",
      "text/plain": [
       "<Figure size 432x288 with 1 Axes>"
      ]
     },
     "metadata": {
      "needs_background": "light"
     },
     "output_type": "display_data"
    }
   ],
   "source": [
    "#Set the path the to the Pneumonia test folder\n",
    "directory = (PNEUMONIA_TEST)\n",
    "dim_count(directory)\n"
   ]
  },
  {
   "cell_type": "markdown",
   "metadata": {
    "id": "nKoqLDS3Tc8e"
   },
   "source": [
    "Only the training pneumonia folder had images that were not 2 dimensions so this had to be account for when producing the scatter plot.  Since this project will be using VGG16 as well, the 2 dimensional images have to be converted to RGB format so that the model will accept the images."
   ]
  },
  {
   "cell_type": "markdown",
   "metadata": {
    "id": "688CXZ6FTc85"
   },
   "source": [
    "## Setting up the Generators\n",
    "<a id='SettinguptheGenerators'></a>"
   ]
  },
  {
   "cell_type": "markdown",
   "metadata": {
    "id": "fENc4qtYTc85"
   },
   "source": [
    "We will be using [`ImageDataGenerator()` which will do all the preprocessing and random augmentations](https://keras.io/api/preprocessing/image/#imagedatagenerator-class) (e.g., scaling and random rotations, zooming) of the images for us.\n",
    "\n",
    "Used with [`ImageDataGenerator().flow_from_directory()`](https://keras.io/api/preprocessing/image/#flowfromdirectory-method) it will apply the preprocessing and augmentation on batches of images from the directory we provide the path to. \n",
    "\n",
    "We will be feeding the image data into our pre-trained NN in batches by using our created generators. "
   ]
  },
  {
   "cell_type": "code",
   "execution_count": 23,
   "metadata": {
    "id": "n7JzN6FwD0cE"
   },
   "outputs": [],
   "source": [
    "# Saving variables that we will be calling on \n",
    "\n",
    "# We have 2 classes we are trying to classify\n",
    "classes = 2\n",
    "\n",
    "# We will re-size the images to 128 by 128 pixels to cut down on computation time \n",
    "pixels = 128\n",
    "\n",
    "# They are colour images so they have 3 channels \n",
    "channels = 3\n",
    "\n",
    "# We want to work with 20 images at a time (in each batch)\n",
    "batch_size = 20"
   ]
  },
  {
   "cell_type": "markdown",
   "metadata": {
    "id": "twvv15OzD0cF"
   },
   "source": [
    "First, we'll instantiate the `ImageDataGenerator()`s and set the paramaeters according to the preprocessing and augmentation that we want done to each image. \n",
    "\n",
    "In this step we also start setting up the validation size. We can outline the % of images in the batch to set aside for the validation set that will be used for each epoch. \n",
    "\n",
    "Note: The validation set was not used because there were not enough images in the set to train.  Instead validation split was set to 10% to use some of the images there in the validation process of the epoch."
   ]
  },
  {
   "cell_type": "code",
   "execution_count": 24,
   "metadata": {
    "id": "8-wY33NID0cF"
   },
   "outputs": [],
   "source": [
    "# Instantiating the training/validation ImageDataGenerator()\n",
    "datagen_train = ImageDataGenerator(rescale=1./255,\n",
    "                                   horizontal_flip=False,\n",
    "                                   vertical_flip=False,\n",
    "                                   zoom_range=0.1,\n",
    "                                   shear_range=0.2,\n",
    "                                   fill_mode='reflect',\n",
    "                                   validation_split=0.1)"
   ]
  },
  {
   "cell_type": "code",
   "execution_count": 25,
   "metadata": {
    "id": "2GH5y_kyD0cG",
    "outputId": "a12db494-531f-49fa-86c8-befdebc72d68"
   },
   "outputs": [
    {
     "name": "stdout",
     "output_type": "stream",
     "text": [
      "Found 4695 images belonging to 2 classes.\n",
      "Found 521 images belonging to 2 classes.\n"
     ]
    }
   ],
   "source": [
    "# The generator for the training data, shuffle set to True \n",
    "train_generator = datagen_train.flow_from_directory('./Data/capstone/train/',\n",
    "                                                    target_size=(pixels, pixels),\n",
    "                                                    color_mode=\"rgb\",\n",
    "                                                    batch_size=batch_size,\n",
    "                                                    class_mode='categorical',\n",
    "                                                    shuffle=False, subset='training') # removed subset='training'\n",
    "\n",
    "# Generator for validation data, shuffle set to 'False' \n",
    "validation_generator = datagen_train.flow_from_directory('./Data/capstone/train/',\n",
    "                                                    target_size=(pixels, pixels),\n",
    "                                                    color_mode=\"rgb\",\n",
    "                                                    batch_size=batch_size,\n",
    "                                                    class_mode='categorical',\n",
    "                                                    shuffle=False,subset='validation') # removed subset='validation'"
   ]
  },
  {
   "cell_type": "code",
   "execution_count": 26,
   "metadata": {
    "id": "a_pZBzD0Tc8_",
    "outputId": "c8293cd3-3beb-44c9-8bdf-decb0e7e5779"
   },
   "outputs": [
    {
     "name": "stderr",
     "output_type": "stream",
     "text": [
      "100%|██████████| 10/10 [00:05<00:00,  1.85it/s]"
     ]
    },
    {
     "name": "stdout",
     "output_type": "stream",
     "text": [
      "(220, 128, 128, 3) (220, 2)\n"
     ]
    },
    {
     "name": "stderr",
     "output_type": "stream",
     "text": [
      "\n"
     ]
    }
   ],
   "source": [
    "# Store the data in X_train, y_train variables by iterating over the batches\n",
    "train_generator.reset()\n",
    "X_train, y_train = next(train_generator)\n",
    "for i in tqdm(range(int(len(train_generator)/batch_size)-1)): #1st batch is already fetched before the for loop.\n",
    "  img, label = next(train_generator)\n",
    "  X_train = np.append(X_train, img, axis=0 )\n",
    "  y_train = np.append(y_train, label, axis=0)\n",
    "print(X_train.shape, y_train.shape)"
   ]
  },
  {
   "cell_type": "code",
   "execution_count": 27,
   "metadata": {
    "id": "DWLwpnMBTc9A",
    "outputId": "5e902320-6357-4896-9c49-d8b8138e417e"
   },
   "outputs": [
    {
     "data": {
      "text/plain": [
       "numpy.ndarray"
      ]
     },
     "execution_count": 27,
     "metadata": {},
     "output_type": "execute_result"
    }
   ],
   "source": [
    "type(X_train)"
   ]
  },
  {
   "cell_type": "code",
   "execution_count": 28,
   "metadata": {
    "id": "7BQNF2elTc9B",
    "outputId": "a7165e86-e24d-4140-ebec-eb3ef9f61649"
   },
   "outputs": [
    {
     "data": {
      "text/plain": [
       "array([[[0.        , 0.        , 0.        ],\n",
       "        [0.        , 0.        , 0.        ],\n",
       "        [0.01220925, 0.01220925, 0.01220925],\n",
       "        ...,\n",
       "        [0.23154378, 0.23154378, 0.23154378],\n",
       "        [0.23834386, 0.23834386, 0.23834386],\n",
       "        [0.2304804 , 0.2304804 , 0.2304804 ]],\n",
       "\n",
       "       [[0.        , 0.        , 0.        ],\n",
       "        [0.        , 0.        , 0.        ],\n",
       "        [0.00649799, 0.00649799, 0.00649799],\n",
       "        ...,\n",
       "        [0.21515183, 0.21515183, 0.21515183],\n",
       "        [0.23371392, 0.23371392, 0.23371392],\n",
       "        [0.22956051, 0.22956051, 0.22956051]],\n",
       "\n",
       "       [[0.        , 0.        , 0.        ],\n",
       "        [0.        , 0.        , 0.        ],\n",
       "        [0.0006566 , 0.0006566 , 0.0006566 ],\n",
       "        ...,\n",
       "        [0.22597684, 0.22597684, 0.22597684],\n",
       "        [0.24542212, 0.24542212, 0.24542212],\n",
       "        [0.23613063, 0.23613063, 0.23613063]],\n",
       "\n",
       "       ...,\n",
       "\n",
       "       [[0.        , 0.        , 0.        ],\n",
       "        [0.        , 0.        , 0.        ],\n",
       "        [0.        , 0.        , 0.        ],\n",
       "        ...,\n",
       "        [0.03219438, 0.03219438, 0.03219438],\n",
       "        [0.        , 0.        , 0.        ],\n",
       "        [0.        , 0.        , 0.        ]],\n",
       "\n",
       "       [[0.        , 0.        , 0.        ],\n",
       "        [0.        , 0.        , 0.        ],\n",
       "        [0.        , 0.        , 0.        ],\n",
       "        ...,\n",
       "        [0.03621323, 0.03621323, 0.03621323],\n",
       "        [0.        , 0.        , 0.        ],\n",
       "        [0.        , 0.        , 0.        ]],\n",
       "\n",
       "       [[0.        , 0.        , 0.        ],\n",
       "        [0.        , 0.        , 0.        ],\n",
       "        [0.        , 0.        , 0.        ],\n",
       "        ...,\n",
       "        [0.03191701, 0.03191701, 0.03191701],\n",
       "        [0.        , 0.        , 0.        ],\n",
       "        [0.        , 0.        , 0.        ]]], dtype=float32)"
      ]
     },
     "execution_count": 28,
     "metadata": {},
     "output_type": "execute_result"
    }
   ],
   "source": [
    "# look at the data contained in the first image of the X_train set.\n",
    "X_train[0]"
   ]
  },
  {
   "cell_type": "code",
   "execution_count": 29,
   "metadata": {
    "id": "cxsCfxmjTc9C",
    "outputId": "fbf1ee92-cb07-402f-bef7-88cb5dcb67c2"
   },
   "outputs": [
    {
     "data": {
      "text/plain": [
       "<matplotlib.image.AxesImage at 0x1762289b310>"
      ]
     },
     "execution_count": 29,
     "metadata": {},
     "output_type": "execute_result"
    },
    {
     "data": {
      "image/png": "[encoded data removed]",
      "text/plain": [
       "<Figure size 432x288 with 1 Axes>"
      ]
     },
     "metadata": {
      "needs_background": "light"
     },
     "output_type": "display_data"
    }
   ],
   "source": [
    "# view one of the images\n",
    "plt.imshow(X_train[219])"
   ]
  },
  {
   "cell_type": "markdown",
   "metadata": {
    "id": "1Axr_m4SD0cI"
   },
   "source": [
    "Lastly, we'll get the number of steps that will need to be carried out for each epoch based on our batch_sizes. "
   ]
  },
  {
   "cell_type": "code",
   "execution_count": 30,
   "metadata": {
    "id": "L0vC3joJD0cI",
    "outputId": "69abbe15-61c1-4c23-e958-34072845d15b"
   },
   "outputs": [
    {
     "name": "stdout",
     "output_type": "stream",
     "text": [
      "Training step size = 234 \n",
      "Validation step size = 26\n"
     ]
    }
   ],
   "source": [
    "# Saving the number of stepsizes for the training, validation and test sets \n",
    "train_stepsize = train_generator.samples//train_generator.batch_size \n",
    "\n",
    "valid_stepsize = validation_generator.samples//validation_generator.batch_size\n",
    "\n",
    "# Sanity check   ' '\n",
    "print(f'Training step size = {train_stepsize} \\nValidation step size = {valid_stepsize}')"
   ]
  },
  {
   "cell_type": "markdown",
   "metadata": {
    "id": "rf6z3u0ED0cJ"
   },
   "source": [
    "## Compiling the VGG16 Convolutional Neural Network \n",
    "\n",
    "Modified from the *Transfer Learning using Keras* lecture, we will be: \n",
    "\n",
    "1. Loading in the trained base model, VGG16, stripping off the top layers of the CNN\n",
    "\n",
    "2. Hold the trained layers of VGG16 static (i.e., freeze their weights so they can't be re-trained)\n",
    "\n",
    "3. Set up some additional layers that we **will train** to classify our x-ray image data.\n",
    "\n",
    "### Step 1"
   ]
  },
  {
   "cell_type": "code",
   "execution_count": 31,
   "metadata": {
    "id": "Qpjb0AfbD0cJ"
   },
   "outputs": [],
   "source": [
    "# Import the pretrained VGG16 network, do not include the top layers\n",
    "pretrained = VGG16(weights='imagenet', include_top=False, pooling='max', input_shape=(pixels,pixels,channels))"
   ]
  },
  {
   "cell_type": "markdown",
   "metadata": {
    "id": "UheuVZIND0cK"
   },
   "source": [
    "1. First, we will set `weights` to 'imagenet', recall from our Transfer Learning lecture, ImageNet has pretty much been a standard dataset used for Large Scale Visual Recognition. And Keras has built into it several CNN architectures & weights that were trained on it, including the base model VGG16 we are using today.\n",
    "2. The second parameter is `include_top = False` gets rid of all the dense layers (i.e. the fully connected ones) and the last layer (the output layer).\n",
    "3. Since we have gotten rid of the last layer, pooling can be used to down sample the detection of features in feature maps. In this case, we have chosen to add a global max pooling layer, which will will flatten the data.\n",
    "4. Lastly, specify the input_shape, which we have defined in the variables earlier."
   ]
  },
  {
   "cell_type": "markdown",
   "metadata": {
    "id": "q552mA0ETc9H"
   },
   "source": [
    "### Step 2"
   ]
  },
  {
   "cell_type": "code",
   "execution_count": 32,
   "metadata": {
    "id": "lJEkrWERD0cK"
   },
   "outputs": [],
   "source": [
    "# 2.  Setting all layers to not trainable so weights wont be tweaked\n",
    "for layer in pretrained.layers:\n",
    "    layer.trainable=False"
   ]
  },
  {
   "cell_type": "markdown",
   "metadata": {
    "id": "BIJ_5a0XD0cK"
   },
   "source": [
    "Since we want to make sure we do not change the layers from the pretrained model. We need to make them non-trainable using the `trainable = False` argument. Because otherwise what is the point of transfer learning, since in transfer learning we are just using pre-trained weights and our model only has to learn the weights of the last few layers."
   ]
  },
  {
   "cell_type": "code",
   "execution_count": 33,
   "metadata": {
    "id": "vxBYgekTD0cL",
    "outputId": "8a2d5466-b7ff-45dd-c971-2eb8f38ae12c"
   },
   "outputs": [
    {
     "name": "stdout",
     "output_type": "stream",
     "text": [
      "Model: \"vgg16\"\n",
      "_________________________________________________________________\n",
      "Layer (type)                 Output Shape              Param #   \n",
      "=================================================================\n",
      "input_1 (InputLayer)         [(None, 128, 128, 3)]     0         \n",
      "_________________________________________________________________\n",
      "block1_conv1 (Conv2D)        (None, 128, 128, 64)      1792      \n",
      "_________________________________________________________________\n",
      "block1_conv2 (Conv2D)        (None, 128, 128, 64)      36928     \n",
      "_________________________________________________________________\n",
      "block1_pool (MaxPooling2D)   (None, 64, 64, 64)        0         \n",
      "_________________________________________________________________\n",
      "block2_conv1 (Conv2D)        (None, 64, 64, 128)       73856     \n",
      "_________________________________________________________________\n",
      "block2_conv2 (Conv2D)        (None, 64, 64, 128)       147584    \n",
      "_________________________________________________________________\n",
      "block2_pool (MaxPooling2D)   (None, 32, 32, 128)       0         \n",
      "_________________________________________________________________\n",
      "block3_conv1 (Conv2D)        (None, 32, 32, 256)       295168    \n",
      "_________________________________________________________________\n",
      "block3_conv2 (Conv2D)        (None, 32, 32, 256)       590080    \n",
      "_________________________________________________________________\n",
      "block3_conv3 (Conv2D)        (None, 32, 32, 256)       590080    \n",
      "_________________________________________________________________\n",
      "block3_pool (MaxPooling2D)   (None, 16, 16, 256)       0         \n",
      "_________________________________________________________________\n",
      "block4_conv1 (Conv2D)        (None, 16, 16, 512)       1180160   \n",
      "_________________________________________________________________\n",
      "block4_conv2 (Conv2D)        (None, 16, 16, 512)       2359808   \n",
      "_________________________________________________________________\n",
      "block4_conv3 (Conv2D)        (None, 16, 16, 512)       2359808   \n",
      "_________________________________________________________________\n",
      "block4_pool (MaxPooling2D)   (None, 8, 8, 512)         0         \n",
      "_________________________________________________________________\n",
      "block5_conv1 (Conv2D)        (None, 8, 8, 512)         2359808   \n",
      "_________________________________________________________________\n",
      "block5_conv2 (Conv2D)        (None, 8, 8, 512)         2359808   \n",
      "_________________________________________________________________\n",
      "block5_conv3 (Conv2D)        (None, 8, 8, 512)         2359808   \n",
      "_________________________________________________________________\n",
      "block5_pool (MaxPooling2D)   (None, 4, 4, 512)         0         \n",
      "_________________________________________________________________\n",
      "global_max_pooling2d (Global (None, 512)               0         \n",
      "=================================================================\n",
      "Total params: 14,714,688\n",
      "Trainable params: 0\n",
      "Non-trainable params: 14,714,688\n",
      "_________________________________________________________________\n"
     ]
    }
   ],
   "source": [
    "# Display VGG16 architecture\n",
    "pretrained.summary()"
   ]
  },
  {
   "cell_type": "markdown",
   "metadata": {
    "id": "uIdkX84cD0cL"
   },
   "source": [
    "We can see that trainable params is zero, which we wanted, and the global_max_pooling layer will flatten the data so it will be ready to be inputed to the full-connected (dense) top layers we will add.\n",
    "\n",
    "### Step 3 \n",
    "\n",
    "We will now compile our `pneumonia_model` with the pretrained layers and added top layers that we will train on our x-ray images. \n",
    "\n",
    "It's important to note that this is only one of the syntatical ways of implementing transfer learning. "
   ]
  },
  {
   "cell_type": "code",
   "execution_count": 34,
   "metadata": {
    "id": "SY2XkPYND0cM"
   },
   "outputs": [],
   "source": [
    "# Instantiate the NN model \n",
    "pneumonia_model = Sequential()\n",
    "\n",
    "# Add the pretrained layers \n",
    "pneumonia_model.add(pretrained)\n",
    "\n",
    "# Add fully-connected dense layers -- plus a dropout layer to help prevent overfitting\n",
    "pneumonia_model.add(Dense(256, activation='relu'))\n",
    "pneumonia_model.add(Dropout(0.5))\n",
    "pneumonia_model.add(Dense(512, activation='relu'))\n",
    "\n",
    "# Adding our activation \n",
    "pneumonia_model.add(Dense(classes, activation='softmax'))"
   ]
  },
  {
   "cell_type": "markdown",
   "metadata": {
    "id": "EWLrRCX1D0cM"
   },
   "source": [
    "**Fully-connected dense layer**\n",
    "With the pretrained model, we have already flattened the pooled feature map into a sequential column of numbers. This allows that information to become the input of our fully-connected dense layer, which serves to combine our features into more attributes. These will predict the classes with greater accuracy. \n",
    "\n",
    "If, for example, we have three output classes, different types of food, and let's say neuron that reads “0” is absolutely uncertain that the feature belongs to a bowl of ramen. A neuron that reads “1 is absolutely certain that the feature belongs to that bowl. In the final fully connected layer, the neurons will read values between 0 and 1. This signifies different levels of certainty. A value of 0.9 would signify a certainty of 90%.\n",
    "\n",
    "**Softmax Activation**\n",
    "And the softmax function serves as an activation function that use the features from the output of these layers to classify the input image based on the training data."
   ]
  },
  {
   "cell_type": "markdown",
   "metadata": {
    "id": "5KdA-7luD0cO"
   },
   "source": [
    "We can also add an [`EarlyStopping()` callback](https://keras.io/api/callbacks/early_stopping/) that will also help prevent our model from being overtrained to our x-ray images. "
   ]
  },
  {
   "cell_type": "code",
   "execution_count": 35,
   "metadata": {
    "id": "ngHZQ9ojD0cO"
   },
   "outputs": [],
   "source": [
    "# Initiate early stop based on validation accuracy\n",
    "ES = EarlyStopping(monitor='val_acc', patience=5, mode='auto', min_delta=0.0001, verbose=1)"
   ]
  },
  {
   "cell_type": "markdown",
   "metadata": {
    "id": "xKy5OW3xD0cO"
   },
   "source": [
    "1. In this case, we are actually monitoring the validation accuracy.\n",
    "2. We are setting `patience=5`, which infers that after 5 epochs with no improvement, the training will be stopped.\n",
    "3. Then we will be setting the `mode` to \"auto\", which essentially just automatically inferred that for `val_acc`, improvement means increasing values.\n",
    "3. And then lastly, setting `min_delta` to 0.0001, which is the minimum change in validation accuracy to qualify as an improvement."
   ]
  },
  {
   "cell_type": "markdown",
   "metadata": {
    "id": "Lw3hlRmiD0cP"
   },
   "source": [
    "We can also set the learning rate with an Adam optimizer, which, as you recall, is a optimization algorithm that computes individual learning rates for different parameters."
   ]
  },
  {
   "cell_type": "code",
   "execution_count": 36,
   "metadata": {
    "id": "DXlqI79HD0cP",
    "outputId": "c57e47c7-8bba-4f40-ca10-2a544daf778a"
   },
   "outputs": [
    {
     "name": "stdout",
     "output_type": "stream",
     "text": [
      "Model: \"sequential\"\n",
      "_________________________________________________________________\n",
      "Layer (type)                 Output Shape              Param #   \n",
      "=================================================================\n",
      "vgg16 (Functional)           (None, 512)               14714688  \n",
      "_________________________________________________________________\n",
      "dense (Dense)                (None, 256)               131328    \n",
      "_________________________________________________________________\n",
      "dropout (Dropout)            (None, 256)               0         \n",
      "_________________________________________________________________\n",
      "dense_1 (Dense)              (None, 512)               131584    \n",
      "_________________________________________________________________\n",
      "dense_2 (Dense)              (None, 2)                 1026      \n",
      "=================================================================\n",
      "Total params: 14,978,626\n",
      "Trainable params: 263,938\n",
      "Non-trainable params: 14,714,688\n",
      "_________________________________________________________________\n"
     ]
    }
   ],
   "source": [
    "# Istantiating Adam optimizer with a learning rate of 0.0001 and saving to variable 'optim'\n",
    "optim = Adam(lr=0.0001)\n",
    "\n",
    "# Compiling the CNN model \n",
    "pneumonia_model.compile(optimizer=optim, loss='binary_crossentropy', metrics=['acc']) #, tf.keras.metrics.Recall(), \n",
    "                                                                              #metrics.AUC()]) # loss was loss='categorical_crossentropy'\n",
    "\n",
    "# Summary \n",
    "pneumonia_model.summary()"
   ]
  },
  {
   "cell_type": "markdown",
   "metadata": {
    "id": "pweKX7hOD0cP"
   },
   "source": [
    "Just a brief recall on what learning rate is, it is a hyperparameter that controls how much the model should change in response to the estimated error when the model weights are updated.\n",
    "\n",
    "After we have set it up, we are finally going to compile our final CNN model, setting the optimizer, and then also selecting the loss function and metrics.\n",
    "1. In this case we will be using the binary_crossentropy as our loss function, as I have a binary class classification problem.\n",
    "2. And then we are just going to set accuracy score as our metrics."
   ]
  },
  {
   "cell_type": "markdown",
   "metadata": {
    "id": "mY_XwxGoD0cP"
   },
   "source": [
    "By using a pre-trained NN we have a lot less parameters to train. \n",
    "\n",
    "Not only is this great time-wise, but it is ideal for our data set. We wouldn't have a sufficient amount of data to train 14+ million parameters. "
   ]
  },
  {
   "cell_type": "code",
   "execution_count": 37,
   "metadata": {
    "id": "XMDLhboHD0cP",
    "outputId": "5678857a-0ba9-4a16-a1b2-e931d2549b18"
   },
   "outputs": [
    {
     "name": "stdout",
     "output_type": "stream",
     "text": [
      "WARNING:tensorflow:From C:\\Users\\Justin Felix\\AppData\\Local\\Temp\\ipykernel_4104\\441575243.py:2: Model.fit_generator (from tensorflow.python.keras.engine.training) is deprecated and will be removed in a future version.\n",
      "Instructions for updating:\n",
      "Please use Model.fit, which supports generators.\n",
      "Epoch 1/10\n",
      "234/234 [==============================] - 476s 2s/step - loss: 0.4687 - acc: 0.7718 - val_loss: 0.3519 - val_acc: 0.8019\n",
      "Epoch 2/10\n",
      "234/234 [==============================] - 468s 2s/step - loss: 0.2995 - acc: 0.8717 - val_loss: 0.2197 - val_acc: 0.9077\n",
      "Epoch 3/10\n",
      "234/234 [==============================] - 466s 2s/step - loss: 0.2486 - acc: 0.9003 - val_loss: 0.2123 - val_acc: 0.9000\n",
      "Epoch 4/10\n",
      "234/234 [==============================] - 466s 2s/step - loss: 0.2226 - acc: 0.9050 - val_loss: 0.1933 - val_acc: 0.9115\n",
      "Epoch 5/10\n",
      "234/234 [==============================] - 466s 2s/step - loss: 0.2004 - acc: 0.9194 - val_loss: 0.1705 - val_acc: 0.9212\n",
      "Epoch 6/10\n",
      "234/234 [==============================] - 467s 2s/step - loss: 0.1768 - acc: 0.9275 - val_loss: 0.2018 - val_acc: 0.9135\n",
      "Epoch 7/10\n",
      "234/234 [==============================] - 467s 2s/step - loss: 0.1754 - acc: 0.9305 - val_loss: 0.1872 - val_acc: 0.9288\n",
      "Epoch 8/10\n",
      "234/234 [==============================] - 468s 2s/step - loss: 0.1710 - acc: 0.9345 - val_loss: 0.1453 - val_acc: 0.9442\n",
      "Epoch 9/10\n",
      "234/234 [==============================] - 466s 2s/step - loss: 0.1571 - acc: 0.9386 - val_loss: 0.1615 - val_acc: 0.9385\n",
      "Epoch 10/10\n",
      "234/234 [==============================] - 466s 2s/step - loss: 0.1533 - acc: 0.9431 - val_loss: 0.1337 - val_acc: 0.9365\n"
     ]
    }
   ],
   "source": [
    "# Fitting the model to the training data\n",
    "history = pneumonia_model.fit_generator(generator=train_generator,\n",
    "                                steps_per_epoch=train_stepsize,\n",
    "                                epochs=10,\n",
    "                                validation_data=validation_generator,\n",
    "                                validation_steps=valid_stepsize,\n",
    "                                callbacks=[ES])"
   ]
  },
  {
   "cell_type": "code",
   "execution_count": 38,
   "metadata": {
    "id": "X_TYH_GoTc9S"
   },
   "outputs": [],
   "source": [
    "# prepare to save the model\n",
    "model = pneumonia_model\n",
    "model.save_weights(\"model.h5\")"
   ]
  },
  {
   "cell_type": "code",
   "execution_count": 39,
   "metadata": {
    "id": "CpjA90MOTc9T",
    "outputId": "69221d14-c139-4457-fc81-07298db8beda"
   },
   "outputs": [
    {
     "name": "stdout",
     "output_type": "stream",
     "text": [
      "WARNING:tensorflow:From C:\\Users\\Justin Felix\\.conda\\envs\\deeplearning\\lib\\site-packages\\tensorflow\\python\\training\\tracking\\tracking.py:111: Model.state_updates (from tensorflow.python.keras.engine.training) is deprecated and will be removed in a future version.\n",
      "Instructions for updating:\n",
      "This property should not be used in TensorFlow 2.0, as updates are applied automatically.\n",
      "WARNING:tensorflow:From C:\\Users\\Justin Felix\\.conda\\envs\\deeplearning\\lib\\site-packages\\tensorflow\\python\\training\\tracking\\tracking.py:111: Layer.updates (from tensorflow.python.keras.engine.base_layer) is deprecated and will be removed in a future version.\n",
      "Instructions for updating:\n",
      "This property should not be used in TensorFlow 2.0, as updates are applied automatically.\n",
      "INFO:tensorflow:Assets written to: Capstone\\assets\n"
     ]
    }
   ],
   "source": [
    "model.save('Capstone')"
   ]
  },
  {
   "cell_type": "code",
   "execution_count": 40,
   "metadata": {
    "id": "NilkAntXD0cQ",
    "outputId": "b012631b-5993-4e9c-e0a3-afc0a7d178b5"
   },
   "outputs": [
    {
     "data": {
      "text/plain": [
       "{'loss': [0.4687388837337494,\n",
       "  0.299490749835968,\n",
       "  0.24858635663986206,\n",
       "  0.22259898483753204,\n",
       "  0.20037704706192017,\n",
       "  0.17676641047000885,\n",
       "  0.17538678646087646,\n",
       "  0.17103834450244904,\n",
       "  0.1570524126291275,\n",
       "  0.15332552790641785],\n",
       " 'acc': [0.7717646956443787,\n",
       "  0.8716577291488647,\n",
       "  0.900320827960968,\n",
       "  0.9050267338752747,\n",
       "  0.9193583130836487,\n",
       "  0.9274866580963135,\n",
       "  0.9304812550544739,\n",
       "  0.9345454573631287,\n",
       "  0.9386096000671387,\n",
       "  0.9431015849113464],\n",
       " 'val_loss': [0.3519434630870819,\n",
       "  0.21971897780895233,\n",
       "  0.21233928203582764,\n",
       "  0.1932767927646637,\n",
       "  0.1704566776752472,\n",
       "  0.2018437534570694,\n",
       "  0.18719495832920074,\n",
       "  0.1452779769897461,\n",
       "  0.16154898703098297,\n",
       "  0.13373404741287231],\n",
       " 'val_acc': [0.8019230961799622,\n",
       "  0.9076923131942749,\n",
       "  0.8999999761581421,\n",
       "  0.9115384817123413,\n",
       "  0.9211538434028625,\n",
       "  0.9134615659713745,\n",
       "  0.9288461804389954,\n",
       "  0.9442307949066162,\n",
       "  0.9384615421295166,\n",
       "  0.9365384578704834]}"
      ]
     },
     "execution_count": 40,
     "metadata": {},
     "output_type": "execute_result"
    }
   ],
   "source": [
    "# check for history object\n",
    "history.history"
   ]
  },
  {
   "cell_type": "markdown",
   "metadata": {
    "id": "QAq6UyNaD0cQ"
   },
   "source": [
    "Using the stored values for loss and accuracy in the `history` object:"
   ]
  },
  {
   "cell_type": "code",
   "execution_count": 41,
   "metadata": {
    "id": "gK9iX2SpD0cQ",
    "outputId": "538c0359-2d17-4591-f141-6793be8cc6d6"
   },
   "outputs": [
    {
     "data": {
      "image/png": "[encoded data removed]",
      "text/plain": [
       "<Figure size 720x288 with 2 Axes>"
      ]
     },
     "metadata": {
      "needs_background": "light"
     },
     "output_type": "display_data"
    }
   ],
   "source": [
    "plt.subplots(1,2,figsize =(10,4))\n",
    "\n",
    "plt.subplot(1,2,1)\n",
    "plt.plot(history.history['loss'], marker='o', label='training loss')\n",
    "plt.plot(history.history['val_loss'], marker='o', label='validation loss')\n",
    "\n",
    "plt.title('Training and Validation Loss')\n",
    "plt.legend(loc='best')\n",
    "plt.xlabel('Epoch')\n",
    "plt.ylabel('Loss')\n",
    "\n",
    "plt.subplot(1,2,2)\n",
    "plt.plot(history.history['acc'], marker='o', label='training accuracy')\n",
    "plt.plot(history.history['val_acc'], marker='o', label='validation accuracy')\n",
    "plt.title('Training and Validation Accuracy')\n",
    "plt.legend(loc='best')\n",
    "plt.xlabel('Epoch')\n",
    "plt.ylabel('Accuracy')\n",
    "\n",
    "plt.tight_layout()\n",
    "plt.show()"
   ]
  },
  {
   "cell_type": "markdown",
   "metadata": {
    "id": "0ui7qUu6D0cR"
   },
   "source": [
    "Validation accuracy is higher than the training accuracy in comparison to the example done in the kickoff.  Perhaps more can be done to optmize the model. \n",
    "\n",
    "When you use Dropout, the behaviour when training and validation are different.\n",
    "\n",
    "When training, only a percentage of the features are used, since we set Dropout to 50%. When validating, all features are used (and are scaled appropriately). So the model at validation time is more robust - and can lead to higher validation accuracies."
   ]
  },
  {
   "cell_type": "markdown",
   "metadata": {
    "id": "FLhAwhbdD0cR"
   },
   "source": [
    "We were able to train a CNN all around half an hour! Given the time crunch and small dataset, it would not have been possible for us to produce this decent model without transfer learning."
   ]
  },
  {
   "cell_type": "code",
   "execution_count": 42,
   "metadata": {
    "id": "511qIVWxTc9W",
    "outputId": "0ce2a481-c497-4f51-a140-0eb310af053d"
   },
   "outputs": [
    {
     "name": "stdout",
     "output_type": "stream",
     "text": [
      "7/7 [==============================] - 16s 2s/step - loss: 0.2202 - acc: 0.9318\n",
      "[0.22017253935337067, 0.9318181872367859]\n"
     ]
    }
   ],
   "source": [
    "# print the evaluation score of the training set\n",
    "print(pneumonia_model.evaluate(X_train,y_train))"
   ]
  },
  {
   "cell_type": "markdown",
   "metadata": {},
   "source": [
    "### Preparing the test data"
   ]
  },
  {
   "cell_type": "code",
   "execution_count": 43,
   "metadata": {
    "id": "7P1JVN3cTc9X",
    "outputId": "ef9ba0c1-e9df-4d74-e15a-31066da4c152"
   },
   "outputs": [
    {
     "name": "stdout",
     "output_type": "stream",
     "text": [
      "Found 624 images belonging to 2 classes.\n"
     ]
    }
   ],
   "source": [
    "# Generator for test data, shuffle set to 'False' \n",
    "test_generator = datagen_train.flow_from_directory('./Data/capstone/test/',\n",
    "                                                    target_size=(pixels, pixels),\n",
    "                                                    color_mode=\"rgb\",\n",
    "                                                    batch_size=batch_size,\n",
    "                                                    class_mode='binary',\n",
    "                                                    shuffle=False) # removed subset='validation'"
   ]
  },
  {
   "cell_type": "code",
   "execution_count": 44,
   "metadata": {
    "id": "OsNkTsDoTc9Y",
    "outputId": "a14ee7e1-f662-4eb2-8ba7-ea077c5ff32b"
   },
   "outputs": [
    {
     "name": "stderr",
     "output_type": "stream",
     "text": [
      "0it [00:00, ?it/s]"
     ]
    },
    {
     "name": "stdout",
     "output_type": "stream",
     "text": [
      "(20, 128, 128, 3) (20,)\n"
     ]
    },
    {
     "name": "stderr",
     "output_type": "stream",
     "text": [
      "\n"
     ]
    }
   ],
   "source": [
    "# Store the data in X_train, y_train variables by iterating over the batches\n",
    "test_generator.reset()\n",
    "X_test, y_test2 = next(test_generator)\n",
    "for i in tqdm(range(int(len(test_generator)/batch_size)-1)): #1st batch is already fetched before the for loop.\n",
    "  img, label = next(test_generator)\n",
    "  X_test = np.append(X_test, img, axis=0 )\n",
    "  y_test2 = np.append(y_test2, label, axis=0)\n",
    "print(X_test.shape, y_test2.shape)"
   ]
  },
  {
   "cell_type": "code",
   "execution_count": 45,
   "metadata": {
    "id": "ImxgNNUdTc9Y",
    "outputId": "898dc812-01aa-432b-8116-c82b58dbb266"
   },
   "outputs": [
    {
     "data": {
      "text/plain": [
       "numpy.ndarray"
      ]
     },
     "execution_count": 45,
     "metadata": {},
     "output_type": "execute_result"
    }
   ],
   "source": [
    "type(X_test)"
   ]
  },
  {
   "cell_type": "code",
   "execution_count": 46,
   "metadata": {
    "id": "X7pnWaTjTc9Z",
    "outputId": "ac6b4720-84e4-42ed-ffa7-071e3506ed5e"
   },
   "outputs": [
    {
     "data": {
      "text/plain": [
       "(20, 128, 128, 3)"
      ]
     },
     "execution_count": 46,
     "metadata": {},
     "output_type": "execute_result"
    }
   ],
   "source": [
    "# Check the shape of the X_test object\n",
    "X_test.shape"
   ]
  },
  {
   "cell_type": "code",
   "execution_count": 47,
   "metadata": {
    "id": "XUXuKIxYTc9Z",
    "outputId": "71d0663a-6258-42b5-937f-ed2cef3b5d85"
   },
   "outputs": [
    {
     "data": {
      "text/plain": [
       "tensorflow.python.keras.preprocessing.image.DirectoryIterator"
      ]
     },
     "execution_count": 47,
     "metadata": {},
     "output_type": "execute_result"
    }
   ],
   "source": [
    "#Check the type of the test_generator object\n",
    "type(test_generator)"
   ]
  },
  {
   "cell_type": "code",
   "execution_count": 48,
   "metadata": {
    "id": "XuYROXb8Tc9a",
    "outputId": "b2afa83e-a43a-4e9b-aff9-d01782f28ab4"
   },
   "outputs": [
    {
     "data": {
      "text/plain": [
       "<tensorflow.python.keras.preprocessing.image.DirectoryIterator at 0x17626c7e160>"
      ]
     },
     "execution_count": 48,
     "metadata": {},
     "output_type": "execute_result"
    }
   ],
   "source": [
    "test_generator"
   ]
  },
  {
   "cell_type": "code",
   "execution_count": 49,
   "metadata": {
    "id": "uDNeGjkATc9a",
    "outputId": "9c5714b3-adfb-4066-ec08-ef37dd64ac9f"
   },
   "outputs": [
    {
     "data": {
      "text/plain": [
       "{'NORMAL': 0, 'PNEUMONIA': 1}"
      ]
     },
     "execution_count": 49,
     "metadata": {},
     "output_type": "execute_result"
    }
   ],
   "source": [
    "# Check the classes of the test set\n",
    "test_generator.class_indices"
   ]
  },
  {
   "cell_type": "code",
   "execution_count": 50,
   "metadata": {
    "id": "cThy-1W6Tc9b",
    "outputId": "02c4243b-c258-4ec8-97b8-a6d516db511d"
   },
   "outputs": [
    {
     "data": {
      "text/plain": [
       "array([0, 0, 0, 0, 0, 0, 0, 0, 0, 0, 0, 0, 0, 0, 0, 0, 0, 0, 0, 0, 0, 0,\n",
       "       0, 0, 0, 0, 0, 0, 0, 0, 0, 0, 0, 0, 0, 0, 0, 0, 0, 0, 0, 0, 0, 0,\n",
       "       0, 0, 0, 0, 0, 0, 0, 0, 0, 0, 0, 0, 0, 0, 0, 0, 0, 0, 0, 0, 0, 0,\n",
       "       0, 0, 0, 0, 0, 0, 0, 0, 0, 0, 0, 0, 0, 0, 0, 0, 0, 0, 0, 0, 0, 0,\n",
       "       0, 0, 0, 0, 0, 0, 0, 0, 0, 0, 0, 0, 0, 0, 0, 0, 0, 0, 0, 0, 0, 0,\n",
       "       0, 0, 0, 0, 0, 0, 0, 0, 0, 0, 0, 0, 0, 0, 0, 0, 0, 0, 0, 0, 0, 0,\n",
       "       0, 0, 0, 0, 0, 0, 0, 0, 0, 0, 0, 0, 0, 0, 0, 0, 0, 0, 0, 0, 0, 0,\n",
       "       0, 0, 0, 0, 0, 0, 0, 0, 0, 0, 0, 0, 0, 0, 0, 0, 0, 0, 0, 0, 0, 0,\n",
       "       0, 0, 0, 0, 0, 0, 0, 0, 0, 0, 0, 0, 0, 0, 0, 0, 0, 0, 0, 0, 0, 0,\n",
       "       0, 0, 0, 0, 0, 0, 0, 0, 0, 0, 0, 0, 0, 0, 0, 0, 0, 0, 0, 0, 0, 0,\n",
       "       0, 0, 0, 0, 0, 0, 0, 0, 0, 0, 0, 0, 0, 0, 1, 1, 1, 1, 1, 1, 1, 1,\n",
       "       1, 1, 1, 1, 1, 1, 1, 1, 1, 1, 1, 1, 1, 1, 1, 1, 1, 1, 1, 1, 1, 1,\n",
       "       1, 1, 1, 1, 1, 1, 1, 1, 1, 1, 1, 1, 1, 1, 1, 1, 1, 1, 1, 1, 1, 1,\n",
       "       1, 1, 1, 1, 1, 1, 1, 1, 1, 1, 1, 1, 1, 1, 1, 1, 1, 1, 1, 1, 1, 1,\n",
       "       1, 1, 1, 1, 1, 1, 1, 1, 1, 1, 1, 1, 1, 1, 1, 1, 1, 1, 1, 1, 1, 1,\n",
       "       1, 1, 1, 1, 1, 1, 1, 1, 1, 1, 1, 1, 1, 1, 1, 1, 1, 1, 1, 1, 1, 1,\n",
       "       1, 1, 1, 1, 1, 1, 1, 1, 1, 1, 1, 1, 1, 1, 1, 1, 1, 1, 1, 1, 1, 1,\n",
       "       1, 1, 1, 1, 1, 1, 1, 1, 1, 1, 1, 1, 1, 1, 1, 1, 1, 1, 1, 1, 1, 1,\n",
       "       1, 1, 1, 1, 1, 1, 1, 1, 1, 1, 1, 1, 1, 1, 1, 1, 1, 1, 1, 1, 1, 1,\n",
       "       1, 1, 1, 1, 1, 1, 1, 1, 1, 1, 1, 1, 1, 1, 1, 1, 1, 1, 1, 1, 1, 1,\n",
       "       1, 1, 1, 1, 1, 1, 1, 1, 1, 1, 1, 1, 1, 1, 1, 1, 1, 1, 1, 1, 1, 1,\n",
       "       1, 1, 1, 1, 1, 1, 1, 1, 1, 1, 1, 1, 1, 1, 1, 1, 1, 1, 1, 1, 1, 1,\n",
       "       1, 1, 1, 1, 1, 1, 1, 1, 1, 1, 1, 1, 1, 1, 1, 1, 1, 1, 1, 1, 1, 1,\n",
       "       1, 1, 1, 1, 1, 1, 1, 1, 1, 1, 1, 1, 1, 1, 1, 1, 1, 1, 1, 1, 1, 1,\n",
       "       1, 1, 1, 1, 1, 1, 1, 1, 1, 1, 1, 1, 1, 1, 1, 1, 1, 1, 1, 1, 1, 1,\n",
       "       1, 1, 1, 1, 1, 1, 1, 1, 1, 1, 1, 1, 1, 1, 1, 1, 1, 1, 1, 1, 1, 1,\n",
       "       1, 1, 1, 1, 1, 1, 1, 1, 1, 1, 1, 1, 1, 1, 1, 1, 1, 1, 1, 1, 1, 1,\n",
       "       1, 1, 1, 1, 1, 1, 1, 1, 1, 1, 1, 1, 1, 1, 1, 1, 1, 1, 1, 1, 1, 1,\n",
       "       1, 1, 1, 1, 1, 1, 1, 1])"
      ]
     },
     "execution_count": 50,
     "metadata": {},
     "output_type": "execute_result"
    }
   ],
   "source": [
    "# Display the labels contained in the test_generator object\n",
    "test_generator.labels"
   ]
  },
  {
   "cell_type": "code",
   "execution_count": 51,
   "metadata": {
    "id": "b0fUialWTc9c",
    "outputId": "c6d2e7a5-a05f-4096-9cb3-6b50d9de5d1c",
    "scrolled": true
   },
   "outputs": [
    {
     "data": {
      "text/plain": [
       "624"
      ]
     },
     "execution_count": 51,
     "metadata": {},
     "output_type": "execute_result"
    }
   ],
   "source": [
    "# Check the length of test_generator\n",
    "len(test_generator.labels)"
   ]
  },
  {
   "cell_type": "code",
   "execution_count": 52,
   "metadata": {
    "id": "7dtbHEx8Tc9d"
   },
   "outputs": [],
   "source": [
    "# Assign the labels to y_test to use for metrics\n",
    "y_test = test_generator.labels"
   ]
  },
  {
   "cell_type": "code",
   "execution_count": 53,
   "metadata": {
    "id": "V_bicadiTc9f",
    "outputId": "00d9ed65-fc89-4497-ed5b-bfb376ac2456"
   },
   "outputs": [
    {
     "data": {
      "text/plain": [
       "array([0, 0, 0, 0, 0, 0, 0, 0, 0, 0, 0, 0, 0, 0, 0, 0, 0, 0, 0, 0, 0, 0,\n",
       "       0, 0, 0, 0, 0, 0, 0, 0, 0, 0, 0, 0, 0, 0, 0, 0, 0, 0, 0, 0, 0, 0,\n",
       "       0, 0, 0, 0, 0, 0, 0, 0, 0, 0, 0, 0, 0, 0, 0, 0, 0, 0, 0, 0, 0, 0,\n",
       "       0, 0, 0, 0, 0, 0, 0, 0, 0, 0, 0, 0, 0, 0, 0, 0, 0, 0, 0, 0, 0, 0,\n",
       "       0, 0, 0, 0, 0, 0, 0, 0, 0, 0, 0, 0, 0, 0, 0, 0, 0, 0, 0, 0, 0, 0,\n",
       "       0, 0, 0, 0, 0, 0, 0, 0, 0, 0, 0, 0, 0, 0, 0, 0, 0, 0, 0, 0, 0, 0,\n",
       "       0, 0, 0, 0, 0, 0, 0, 0, 0, 0, 0, 0, 0, 0, 0, 0, 0, 0, 0, 0, 0, 0,\n",
       "       0, 0, 0, 0, 0, 0, 0, 0, 0, 0, 0, 0, 0, 0, 0, 0, 0, 0, 0, 0, 0, 0,\n",
       "       0, 0, 0, 0, 0, 0, 0, 0, 0, 0, 0, 0, 0, 0, 0, 0, 0, 0, 0, 0, 0, 0,\n",
       "       0, 0, 0, 0, 0, 0, 0, 0, 0, 0, 0, 0, 0, 0, 0, 0, 0, 0, 0, 0, 0, 0,\n",
       "       0, 0, 0, 0, 0, 0, 0, 0, 0, 0, 0, 0, 0, 0, 1, 1, 1, 1, 1, 1, 1, 1,\n",
       "       1, 1, 1, 1, 1, 1, 1, 1, 1, 1, 1, 1, 1, 1, 1, 1, 1, 1, 1, 1, 1, 1,\n",
       "       1, 1, 1, 1, 1, 1, 1, 1, 1, 1, 1, 1, 1, 1, 1, 1, 1, 1, 1, 1, 1, 1,\n",
       "       1, 1, 1, 1, 1, 1, 1, 1, 1, 1, 1, 1, 1, 1, 1, 1, 1, 1, 1, 1, 1, 1,\n",
       "       1, 1, 1, 1, 1, 1, 1, 1, 1, 1, 1, 1, 1, 1, 1, 1, 1, 1, 1, 1, 1, 1,\n",
       "       1, 1, 1, 1, 1, 1, 1, 1, 1, 1, 1, 1, 1, 1, 1, 1, 1, 1, 1, 1, 1, 1,\n",
       "       1, 1, 1, 1, 1, 1, 1, 1, 1, 1, 1, 1, 1, 1, 1, 1, 1, 1, 1, 1, 1, 1,\n",
       "       1, 1, 1, 1, 1, 1, 1, 1, 1, 1, 1, 1, 1, 1, 1, 1, 1, 1, 1, 1, 1, 1,\n",
       "       1, 1, 1, 1, 1, 1, 1, 1, 1, 1, 1, 1, 1, 1, 1, 1, 1, 1, 1, 1, 1, 1,\n",
       "       1, 1, 1, 1, 1, 1, 1, 1, 1, 1, 1, 1, 1, 1, 1, 1, 1, 1, 1, 1, 1, 1,\n",
       "       1, 1, 1, 1, 1, 1, 1, 1, 1, 1, 1, 1, 1, 1, 1, 1, 1, 1, 1, 1, 1, 1,\n",
       "       1, 1, 1, 1, 1, 1, 1, 1, 1, 1, 1, 1, 1, 1, 1, 1, 1, 1, 1, 1, 1, 1,\n",
       "       1, 1, 1, 1, 1, 1, 1, 1, 1, 1, 1, 1, 1, 1, 1, 1, 1, 1, 1, 1, 1, 1,\n",
       "       1, 1, 1, 1, 1, 1, 1, 1, 1, 1, 1, 1, 1, 1, 1, 1, 1, 1, 1, 1, 1, 1,\n",
       "       1, 1, 1, 1, 1, 1, 1, 1, 1, 1, 1, 1, 1, 1, 1, 1, 1, 1, 1, 1, 1, 1,\n",
       "       1, 1, 1, 1, 1, 1, 1, 1, 1, 1, 1, 1, 1, 1, 1, 1, 1, 1, 1, 1, 1, 1,\n",
       "       1, 1, 1, 1, 1, 1, 1, 1, 1, 1, 1, 1, 1, 1, 1, 1, 1, 1, 1, 1, 1, 1,\n",
       "       1, 1, 1, 1, 1, 1, 1, 1, 1, 1, 1, 1, 1, 1, 1, 1, 1, 1, 1, 1, 1, 1,\n",
       "       1, 1, 1, 1, 1, 1, 1, 1])"
      ]
     },
     "execution_count": 53,
     "metadata": {},
     "output_type": "execute_result"
    }
   ],
   "source": [
    "# Display was is stored in y_test\n",
    "y_test"
   ]
  },
  {
   "cell_type": "code",
   "execution_count": 54,
   "metadata": {
    "id": "W_Al0dHfTc9g"
   },
   "outputs": [],
   "source": [
    "# Reset the generator to the first batch\n",
    "test_generator.reset()"
   ]
  },
  {
   "cell_type": "code",
   "execution_count": 55,
   "metadata": {
    "id": "8JYtW-MuTc9g"
   },
   "outputs": [],
   "source": [
    "# Get predictions of the images in the test_generator object\n",
    "y_pred = pneumonia_model.predict(test_generator)"
   ]
  },
  {
   "cell_type": "code",
   "execution_count": 56,
   "metadata": {
    "id": "IN9n6Ce_Tc9h",
    "outputId": "a824aa78-7486-4788-96ac-7696d8d38c40"
   },
   "outputs": [
    {
     "data": {
      "text/plain": [
       "numpy.ndarray"
      ]
     },
     "execution_count": 56,
     "metadata": {},
     "output_type": "execute_result"
    }
   ],
   "source": [
    "# Check the type of y_pred\n",
    "type(y_pred)"
   ]
  },
  {
   "cell_type": "code",
   "execution_count": 57,
   "metadata": {
    "id": "BN-rJOSuTc9h",
    "outputId": "aaea19c2-339a-4f6e-a67a-bd77d6983e77"
   },
   "outputs": [
    {
     "data": {
      "text/plain": [
       "(624, 2)"
      ]
     },
     "execution_count": 57,
     "metadata": {},
     "output_type": "execute_result"
    }
   ],
   "source": [
    "# Check the shape of y_pred\n",
    "y_pred.shape"
   ]
  },
  {
   "cell_type": "code",
   "execution_count": 58,
   "metadata": {
    "id": "O5ImZ9IpTc9i",
    "outputId": "5171580e-4a76-4d2e-fb2e-fc1ce1f5781c"
   },
   "outputs": [
    {
     "data": {
      "text/plain": [
       "array([[0.52417284, 0.47582722],\n",
       "       [0.38170323, 0.6182968 ],\n",
       "       [0.81336075, 0.18663928],\n",
       "       ...,\n",
       "       [0.00127807, 0.9987219 ],\n",
       "       [0.00190478, 0.9980952 ],\n",
       "       [0.07159751, 0.92840254]], dtype=float32)"
      ]
     },
     "execution_count": 58,
     "metadata": {},
     "output_type": "execute_result"
    }
   ],
   "source": [
    "# show probabilities of the classes of the image in the array\n",
    "y_pred"
   ]
  },
  {
   "cell_type": "code",
   "execution_count": 59,
   "metadata": {
    "id": "JrCdFi3LTc9k"
   },
   "outputs": [],
   "source": [
    "# convert the percentages into 0 or 1\n",
    "predicted_categories = np.argmax(y_pred, axis = -1)"
   ]
  },
  {
   "cell_type": "code",
   "execution_count": 60,
   "metadata": {
    "id": "uNS8I8w-Tc9j",
    "outputId": "08f1f7af-dd72-4863-b950-7f6d43959b69"
   },
   "outputs": [
    {
     "data": {
      "text/plain": [
       "array([[0.52417284],\n",
       "       [0.6182968 ],\n",
       "       [0.81336075],\n",
       "       [0.6152985 ],\n",
       "       [0.8401168 ],\n",
       "       [0.8737028 ],\n",
       "       [0.6811218 ],\n",
       "       [0.8159914 ],\n",
       "       [0.58081436],\n",
       "       [0.9337002 ],\n",
       "       [0.91709876],\n",
       "       [0.8820901 ],\n",
       "       [0.9508076 ],\n",
       "       [0.9515415 ],\n",
       "       [0.51339   ],\n",
       "       [0.6182008 ],\n",
       "       [0.9983631 ],\n",
       "       [0.7743526 ],\n",
       "       [0.9695663 ],\n",
       "       [0.94385517],\n",
       "       [0.914089  ],\n",
       "       [0.65316033],\n",
       "       [0.8524602 ],\n",
       "       [0.7923797 ],\n",
       "       [0.9772543 ],\n",
       "       [0.9468812 ],\n",
       "       [0.93023807],\n",
       "       [0.9893114 ],\n",
       "       [0.83573806],\n",
       "       [0.65433085],\n",
       "       [0.71717113],\n",
       "       [0.51186496],\n",
       "       [0.81850594],\n",
       "       [0.99469596],\n",
       "       [0.93369436],\n",
       "       [0.93152755],\n",
       "       [0.97720784],\n",
       "       [0.7613107 ],\n",
       "       [0.97342515],\n",
       "       [0.96712476],\n",
       "       [0.6691912 ],\n",
       "       [0.9682721 ],\n",
       "       [0.9552696 ],\n",
       "       [0.9961683 ],\n",
       "       [0.69681996],\n",
       "       [0.9835259 ],\n",
       "       [0.50002295],\n",
       "       [0.71948594],\n",
       "       [0.9360515 ],\n",
       "       [0.51490456],\n",
       "       [0.9099037 ],\n",
       "       [0.84240776],\n",
       "       [0.9287256 ],\n",
       "       [0.92219555],\n",
       "       [0.683156  ],\n",
       "       [0.98631096],\n",
       "       [0.8494619 ],\n",
       "       [0.87216   ],\n",
       "       [0.52459365],\n",
       "       [0.9801364 ],\n",
       "       [0.994713  ],\n",
       "       [0.84908843],\n",
       "       [0.8515855 ],\n",
       "       [0.9976156 ],\n",
       "       [0.92258674],\n",
       "       [0.90365386],\n",
       "       [0.69425875],\n",
       "       [0.93763816],\n",
       "       [0.58348155],\n",
       "       [0.8317211 ],\n",
       "       [0.8960496 ],\n",
       "       [0.71642303],\n",
       "       [0.85739774],\n",
       "       [0.52365744],\n",
       "       [0.974571  ],\n",
       "       [0.52996933],\n",
       "       [0.89673704],\n",
       "       [0.98528963],\n",
       "       [0.967553  ],\n",
       "       [0.9543949 ],\n",
       "       [0.621857  ],\n",
       "       [0.77308416],\n",
       "       [0.915794  ],\n",
       "       [0.57001644],\n",
       "       [0.929715  ],\n",
       "       [0.5766864 ],\n",
       "       [0.52020866],\n",
       "       [0.86502   ],\n",
       "       [0.7269529 ],\n",
       "       [0.8874215 ],\n",
       "       [0.978311  ],\n",
       "       [0.6055339 ],\n",
       "       [0.754967  ],\n",
       "       [0.9142589 ],\n",
       "       [0.95491755],\n",
       "       [0.5401209 ],\n",
       "       [0.8769169 ],\n",
       "       [0.84869564],\n",
       "       [0.8568306 ],\n",
       "       [0.75789493],\n",
       "       [0.80324155],\n",
       "       [0.72383463],\n",
       "       [0.9294564 ],\n",
       "       [0.8637011 ],\n",
       "       [0.8332792 ],\n",
       "       [0.6309749 ],\n",
       "       [0.90551776],\n",
       "       [0.7374202 ],\n",
       "       [0.9177822 ],\n",
       "       [0.61061144],\n",
       "       [0.6133907 ],\n",
       "       [0.66640383],\n",
       "       [0.9199945 ],\n",
       "       [0.84245604],\n",
       "       [0.82638127],\n",
       "       [0.9014502 ],\n",
       "       [0.98941493],\n",
       "       [0.9871832 ],\n",
       "       [0.99026465],\n",
       "       [0.9705942 ],\n",
       "       [0.9986577 ],\n",
       "       [0.83503175],\n",
       "       [0.9975388 ],\n",
       "       [0.946401  ],\n",
       "       [0.99220276],\n",
       "       [0.9598588 ],\n",
       "       [0.99062514],\n",
       "       [0.8821544 ],\n",
       "       [0.9726293 ],\n",
       "       [0.9965815 ],\n",
       "       [0.98682004],\n",
       "       [0.99812037],\n",
       "       [0.7855267 ],\n",
       "       [0.99928564],\n",
       "       [0.9948226 ],\n",
       "       [0.97623277],\n",
       "       [0.99736017],\n",
       "       [0.9950453 ],\n",
       "       [0.940674  ],\n",
       "       [0.8668023 ],\n",
       "       [0.99916315],\n",
       "       [0.9888805 ],\n",
       "       [0.96485513],\n",
       "       [0.9827708 ],\n",
       "       [0.9946753 ],\n",
       "       [0.9808287 ],\n",
       "       [0.9979672 ],\n",
       "       [0.8109666 ],\n",
       "       [0.96807843],\n",
       "       [0.7670241 ],\n",
       "       [0.981989  ],\n",
       "       [0.80612916],\n",
       "       [0.75507903],\n",
       "       [0.8360367 ],\n",
       "       [0.96253645],\n",
       "       [0.96164036],\n",
       "       [0.8158855 ],\n",
       "       [0.5916913 ],\n",
       "       [0.9235256 ],\n",
       "       [0.83434016],\n",
       "       [0.9803057 ],\n",
       "       [0.8925722 ],\n",
       "       [0.9452957 ],\n",
       "       [0.9024776 ],\n",
       "       [0.92830515],\n",
       "       [0.5556454 ],\n",
       "       [0.6218108 ],\n",
       "       [0.6645648 ],\n",
       "       [0.67692375],\n",
       "       [0.98490727],\n",
       "       [0.82799226],\n",
       "       [0.9526442 ],\n",
       "       [0.85921955],\n",
       "       [0.9265814 ],\n",
       "       [0.6429381 ],\n",
       "       [0.9767879 ],\n",
       "       [0.9373094 ],\n",
       "       [0.9404869 ],\n",
       "       [0.845263  ],\n",
       "       [0.9060784 ],\n",
       "       [0.89505315],\n",
       "       [0.8598515 ],\n",
       "       [0.9789699 ],\n",
       "       [0.5652019 ],\n",
       "       [0.6598404 ],\n",
       "       [0.9843776 ],\n",
       "       [0.68971   ],\n",
       "       [0.95249844],\n",
       "       [0.55938107],\n",
       "       [0.5146744 ],\n",
       "       [0.6659526 ],\n",
       "       [0.85393375],\n",
       "       [0.94834334],\n",
       "       [0.8972699 ],\n",
       "       [0.91127706],\n",
       "       [0.9626322 ],\n",
       "       [0.8339553 ],\n",
       "       [0.7101853 ],\n",
       "       [0.99439853],\n",
       "       [0.9031606 ],\n",
       "       [0.94292325],\n",
       "       [0.88810414],\n",
       "       [0.576535  ],\n",
       "       [0.6508052 ],\n",
       "       [0.9714786 ],\n",
       "       [0.7792134 ],\n",
       "       [0.968586  ],\n",
       "       [0.8625027 ],\n",
       "       [0.83029324],\n",
       "       [0.98353094],\n",
       "       [0.96567565],\n",
       "       [0.8681751 ],\n",
       "       [0.54914844],\n",
       "       [0.8486804 ],\n",
       "       [0.6900136 ],\n",
       "       [0.72447217],\n",
       "       [0.6437099 ],\n",
       "       [0.9878279 ],\n",
       "       [0.9290549 ],\n",
       "       [0.90214676],\n",
       "       [0.6684271 ],\n",
       "       [0.75557745],\n",
       "       [0.633508  ],\n",
       "       [0.8697211 ],\n",
       "       [0.67530763],\n",
       "       [0.9558345 ],\n",
       "       [0.9775505 ],\n",
       "       [0.80879885],\n",
       "       [0.9435148 ],\n",
       "       [0.9165728 ],\n",
       "       [0.94208825],\n",
       "       [0.9593375 ],\n",
       "       [0.805408  ],\n",
       "       [0.6776334 ],\n",
       "       [0.88984144],\n",
       "       [0.99984264],\n",
       "       [0.99988544],\n",
       "       [0.99967766],\n",
       "       [0.99953747],\n",
       "       [0.99974245],\n",
       "       [0.9950664 ],\n",
       "       [0.9998853 ],\n",
       "       [0.99905246],\n",
       "       [0.9997042 ],\n",
       "       [0.9999095 ],\n",
       "       [0.98798007],\n",
       "       [0.99958175],\n",
       "       [0.99224323],\n",
       "       [0.9996985 ],\n",
       "       [0.9989416 ],\n",
       "       [0.9996221 ],\n",
       "       [0.9945411 ],\n",
       "       [0.9992194 ],\n",
       "       [0.9997454 ],\n",
       "       [0.94003403],\n",
       "       [0.9907171 ],\n",
       "       [0.99892884],\n",
       "       [0.99517363],\n",
       "       [0.99801683],\n",
       "       [0.998754  ],\n",
       "       [0.9996476 ],\n",
       "       [0.9997528 ],\n",
       "       [0.9999683 ],\n",
       "       [0.9999089 ],\n",
       "       [0.99315155],\n",
       "       [0.9959792 ],\n",
       "       [0.99995613],\n",
       "       [0.99272776],\n",
       "       [0.999931  ],\n",
       "       [0.9967085 ],\n",
       "       [0.93754345],\n",
       "       [0.9979845 ],\n",
       "       [0.98163646],\n",
       "       [0.999813  ],\n",
       "       [0.9996698 ],\n",
       "       [0.9998273 ],\n",
       "       [0.9936644 ],\n",
       "       [0.99951017],\n",
       "       [0.9983589 ],\n",
       "       [0.9996018 ],\n",
       "       [0.98505265],\n",
       "       [0.9873603 ],\n",
       "       [0.9948914 ],\n",
       "       [0.996766  ],\n",
       "       [0.9482953 ],\n",
       "       [0.9995474 ],\n",
       "       [0.9993136 ],\n",
       "       [0.92829436],\n",
       "       [0.78815985],\n",
       "       [0.995743  ],\n",
       "       [0.9988458 ],\n",
       "       [0.9999213 ],\n",
       "       [0.9995771 ],\n",
       "       [0.9995229 ],\n",
       "       [0.9952769 ],\n",
       "       [0.9998362 ],\n",
       "       [0.9994997 ],\n",
       "       [0.99874496],\n",
       "       [0.97918487],\n",
       "       [0.99399614],\n",
       "       [0.9992454 ],\n",
       "       [0.99990296],\n",
       "       [0.9997545 ],\n",
       "       [0.99904376],\n",
       "       [0.9997162 ],\n",
       "       [0.9989041 ],\n",
       "       [0.9991211 ],\n",
       "       [0.9996087 ],\n",
       "       [0.9981832 ],\n",
       "       [0.99908864],\n",
       "       [0.99971145],\n",
       "       [0.996227  ],\n",
       "       [0.99990094],\n",
       "       [0.99985754],\n",
       "       [0.9996069 ],\n",
       "       [0.9995371 ],\n",
       "       [0.9987859 ],\n",
       "       [0.75201744],\n",
       "       [0.9998733 ],\n",
       "       [0.99995553],\n",
       "       [0.9998004 ],\n",
       "       [0.9493477 ],\n",
       "       [0.9817563 ],\n",
       "       [0.9996934 ],\n",
       "       [0.9980563 ],\n",
       "       [0.9946976 ],\n",
       "       [0.99700624],\n",
       "       [0.99832815],\n",
       "       [0.99622285],\n",
       "       [0.9994252 ],\n",
       "       [0.99997246],\n",
       "       [0.99985325],\n",
       "       [0.9999087 ],\n",
       "       [0.999777  ],\n",
       "       [0.9727138 ],\n",
       "       [0.9971091 ],\n",
       "       [0.9950647 ],\n",
       "       [0.9981193 ],\n",
       "       [0.99890256],\n",
       "       [0.99893206],\n",
       "       [0.9997888 ],\n",
       "       [0.9579816 ],\n",
       "       [0.99899   ],\n",
       "       [0.9996953 ],\n",
       "       [0.9994338 ],\n",
       "       [0.99624026],\n",
       "       [0.99887294],\n",
       "       [0.9886658 ],\n",
       "       [0.90150636],\n",
       "       [0.99829274],\n",
       "       [0.99886864],\n",
       "       [0.9997067 ],\n",
       "       [0.9967347 ],\n",
       "       [0.99992645],\n",
       "       [0.9995943 ],\n",
       "       [0.9929844 ],\n",
       "       [0.9991055 ],\n",
       "       [0.9990783 ],\n",
       "       [0.9950612 ],\n",
       "       [0.99930096],\n",
       "       [0.98694706],\n",
       "       [0.9999807 ],\n",
       "       [0.99840206],\n",
       "       [0.9785261 ],\n",
       "       [0.99881834],\n",
       "       [0.9473109 ],\n",
       "       [0.9937842 ],\n",
       "       [0.9996495 ],\n",
       "       [0.99584645],\n",
       "       [0.9997694 ],\n",
       "       [0.9702923 ],\n",
       "       [0.99196035],\n",
       "       [0.99688137],\n",
       "       [0.98711   ],\n",
       "       [0.9998311 ],\n",
       "       [0.99939466],\n",
       "       [0.99508864],\n",
       "       [0.9623358 ],\n",
       "       [0.99833775],\n",
       "       [0.99737024],\n",
       "       [0.999148  ],\n",
       "       [0.99854124],\n",
       "       [0.9832181 ],\n",
       "       [0.9999486 ],\n",
       "       [0.9987882 ],\n",
       "       [0.9995975 ],\n",
       "       [0.99975544],\n",
       "       [0.9988686 ],\n",
       "       [0.59218967],\n",
       "       [0.9975713 ],\n",
       "       [0.68790615],\n",
       "       [0.776996  ],\n",
       "       [0.99985516],\n",
       "       [0.99331677],\n",
       "       [0.99976844],\n",
       "       [0.9956251 ],\n",
       "       [0.9997017 ],\n",
       "       [0.90587294],\n",
       "       [0.99970275],\n",
       "       [0.9973592 ],\n",
       "       [0.99979717],\n",
       "       [0.87805444],\n",
       "       [0.99935895],\n",
       "       [0.9994241 ],\n",
       "       [0.73296237],\n",
       "       [0.9911141 ],\n",
       "       [0.99518883],\n",
       "       [0.99911886],\n",
       "       [0.9975268 ],\n",
       "       [0.9555291 ],\n",
       "       [0.9994406 ],\n",
       "       [0.9999502 ],\n",
       "       [0.99780935],\n",
       "       [0.99895906],\n",
       "       [0.99977607],\n",
       "       [0.9985869 ],\n",
       "       [0.9968141 ],\n",
       "       [0.99083763],\n",
       "       [0.95058936],\n",
       "       [0.9967943 ],\n",
       "       [0.97997004],\n",
       "       [0.99602294],\n",
       "       [0.9996264 ],\n",
       "       [0.99982077],\n",
       "       [0.9879981 ],\n",
       "       [0.9914989 ],\n",
       "       [0.9945315 ],\n",
       "       [0.9774074 ],\n",
       "       [0.99858713],\n",
       "       [0.997088  ],\n",
       "       [0.94152445],\n",
       "       [0.92497116],\n",
       "       [0.99708563],\n",
       "       [0.9943738 ],\n",
       "       [0.9728176 ],\n",
       "       [0.9901196 ],\n",
       "       [0.9977076 ],\n",
       "       [0.9889298 ],\n",
       "       [0.98115325],\n",
       "       [0.9223223 ],\n",
       "       [0.9974964 ],\n",
       "       [0.93717927],\n",
       "       [0.99688786],\n",
       "       [0.9984459 ],\n",
       "       [0.9905172 ],\n",
       "       [0.834372  ],\n",
       "       [0.9983524 ],\n",
       "       [0.99895954],\n",
       "       [0.9983467 ],\n",
       "       [0.98972285],\n",
       "       [0.9798764 ],\n",
       "       [0.9967405 ],\n",
       "       [0.9952553 ],\n",
       "       [0.93713665],\n",
       "       [0.92496157],\n",
       "       [0.99016035],\n",
       "       [0.9978053 ],\n",
       "       [0.97877616],\n",
       "       [0.89149016],\n",
       "       [0.950774  ],\n",
       "       [0.9852878 ],\n",
       "       [0.9967116 ],\n",
       "       [0.9995426 ],\n",
       "       [0.998904  ],\n",
       "       [0.99770975],\n",
       "       [0.99736005],\n",
       "       [0.9995579 ],\n",
       "       [0.9998852 ],\n",
       "       [0.99781406],\n",
       "       [0.983609  ],\n",
       "       [0.99860865],\n",
       "       [0.9934182 ],\n",
       "       [0.9973736 ],\n",
       "       [0.8562253 ],\n",
       "       [0.99982786],\n",
       "       [0.999498  ],\n",
       "       [0.98238957],\n",
       "       [0.999729  ],\n",
       "       [0.99941957],\n",
       "       [0.8571021 ],\n",
       "       [0.9987877 ],\n",
       "       [0.9979247 ],\n",
       "       [0.99882513],\n",
       "       [0.9998698 ],\n",
       "       [0.98326737],\n",
       "       [0.9907865 ],\n",
       "       [0.97688407],\n",
       "       [0.9998461 ],\n",
       "       [0.99812824],\n",
       "       [0.9382608 ],\n",
       "       [0.99442405],\n",
       "       [0.99987245],\n",
       "       [0.9991302 ],\n",
       "       [0.99977916],\n",
       "       [0.97911763],\n",
       "       [0.99903846],\n",
       "       [0.97129303],\n",
       "       [0.99829406],\n",
       "       [0.98996824],\n",
       "       [0.9975268 ],\n",
       "       [0.9783926 ],\n",
       "       [0.9873475 ],\n",
       "       [0.9788821 ],\n",
       "       [0.97897184],\n",
       "       [0.9990495 ],\n",
       "       [0.9854798 ],\n",
       "       [0.99594116],\n",
       "       [0.99686784],\n",
       "       [0.9906316 ],\n",
       "       [0.99794084],\n",
       "       [0.9071316 ],\n",
       "       [0.99460286],\n",
       "       [0.99823534],\n",
       "       [0.98562336],\n",
       "       [0.9994468 ],\n",
       "       [0.9998627 ],\n",
       "       [0.991321  ],\n",
       "       [0.9972646 ],\n",
       "       [0.99878436],\n",
       "       [0.9048727 ],\n",
       "       [0.99189514],\n",
       "       [0.8495076 ],\n",
       "       [0.9951121 ],\n",
       "       [0.9962728 ],\n",
       "       [0.9928839 ],\n",
       "       [0.9980603 ],\n",
       "       [0.9945582 ],\n",
       "       [0.99939   ],\n",
       "       [0.9990823 ],\n",
       "       [0.92578393],\n",
       "       [0.97908   ],\n",
       "       [0.9851354 ],\n",
       "       [0.99644923],\n",
       "       [0.95685214],\n",
       "       [0.9965913 ],\n",
       "       [0.9994216 ],\n",
       "       [0.9904407 ],\n",
       "       [0.997563  ],\n",
       "       [0.99917835],\n",
       "       [0.98350495],\n",
       "       [0.9840565 ],\n",
       "       [0.9151637 ],\n",
       "       [0.99785185],\n",
       "       [0.99192667],\n",
       "       [0.99814415],\n",
       "       [0.9854254 ],\n",
       "       [0.9969785 ],\n",
       "       [0.99229383],\n",
       "       [0.99912256],\n",
       "       [0.9996001 ],\n",
       "       [0.9768439 ],\n",
       "       [0.9954124 ],\n",
       "       [0.9988433 ],\n",
       "       [0.9473899 ],\n",
       "       [0.9978071 ],\n",
       "       [0.9203396 ],\n",
       "       [0.9306901 ],\n",
       "       [0.9976472 ],\n",
       "       [0.99923015],\n",
       "       [0.99927336],\n",
       "       [0.9983278 ],\n",
       "       [0.99904615],\n",
       "       [0.9996749 ],\n",
       "       [0.9992194 ],\n",
       "       [0.99915767],\n",
       "       [0.99928826],\n",
       "       [0.9235707 ],\n",
       "       [0.9104195 ],\n",
       "       [0.9990583 ],\n",
       "       [0.99944407],\n",
       "       [0.99525416],\n",
       "       [0.9992336 ],\n",
       "       [0.9990061 ],\n",
       "       [0.9968022 ],\n",
       "       [0.9989429 ],\n",
       "       [0.9998317 ],\n",
       "       [0.9981109 ],\n",
       "       [0.99955827],\n",
       "       [0.99983466],\n",
       "       [0.9998722 ],\n",
       "       [0.98568755],\n",
       "       [0.9863966 ],\n",
       "       [0.97954124],\n",
       "       [0.99938095],\n",
       "       [0.9714342 ],\n",
       "       [0.9998863 ],\n",
       "       [0.9399592 ],\n",
       "       [0.999398  ],\n",
       "       [0.9981811 ],\n",
       "       [0.99620193],\n",
       "       [0.9999262 ],\n",
       "       [0.99937123],\n",
       "       [0.99992526],\n",
       "       [0.99711883],\n",
       "       [0.99663454],\n",
       "       [0.99982005],\n",
       "       [0.99918574],\n",
       "       [0.97462374],\n",
       "       [0.99896395],\n",
       "       [0.6217076 ],\n",
       "       [0.9878977 ],\n",
       "       [0.982636  ],\n",
       "       [0.98860234],\n",
       "       [0.99923015],\n",
       "       [0.99913484],\n",
       "       [0.9979013 ],\n",
       "       [0.99967396],\n",
       "       [0.9996786 ],\n",
       "       [0.86454505],\n",
       "       [0.7947306 ],\n",
       "       [0.99578804],\n",
       "       [0.9999869 ],\n",
       "       [0.9977174 ],\n",
       "       [0.99864715],\n",
       "       [0.99997795],\n",
       "       [0.999637  ],\n",
       "       [0.99991107],\n",
       "       [0.9912145 ],\n",
       "       [0.99947804],\n",
       "       [0.99830025],\n",
       "       [0.9988036 ],\n",
       "       [0.9987219 ],\n",
       "       [0.9980952 ],\n",
       "       [0.92840254]], dtype=float32)"
      ]
     },
     "execution_count": 60,
     "metadata": {},
     "output_type": "execute_result"
    }
   ],
   "source": [
    "# This will store the highest value but it did not convert to 0 or 1 so it shouldn't be used\n",
    "np.take_along_axis(y_pred, np.expand_dims(predicted_categories, axis=-1), axis=-1)"
   ]
  },
  {
   "cell_type": "code",
   "execution_count": 61,
   "metadata": {
    "id": "vSPCoja7Tc9k",
    "outputId": "42639f9b-ae11-4d05-f131-da69c5b09cd0"
   },
   "outputs": [
    {
     "data": {
      "text/plain": [
       "numpy.ndarray"
      ]
     },
     "execution_count": 61,
     "metadata": {},
     "output_type": "execute_result"
    }
   ],
   "source": [
    "# Checking the type again for predicted_categories\n",
    "type(predicted_categories)"
   ]
  },
  {
   "cell_type": "code",
   "execution_count": 62,
   "metadata": {
    "id": "RDf-XFbFTc9l",
    "outputId": "dc263acf-d3c1-4fa1-b7b8-08cee6d2de16"
   },
   "outputs": [
    {
     "data": {
      "text/plain": [
       "array([0, 1, 0, 0, 0, 0, 0, 0, 1, 0, 0, 1, 0, 0, 1, 0, 1, 1, 0, 0, 0, 0,\n",
       "       1, 0, 0, 0, 0, 0, 0, 0, 0, 1, 0, 0, 0, 0, 0, 0, 0, 0, 0, 0, 1, 0,\n",
       "       1, 1, 0, 1, 1, 1, 1, 0, 1, 1, 0, 0, 1, 0, 1, 0, 0, 1, 0, 0, 0, 0,\n",
       "       1, 1, 1, 0, 0, 1, 0, 0, 0, 1, 0, 0, 0, 0, 1, 1, 0, 0, 1, 0, 1, 0,\n",
       "       0, 1, 0, 0, 0, 0, 0, 1, 0, 0, 1, 1, 1, 1, 0, 1, 0, 1, 1, 0, 0, 0,\n",
       "       1, 0, 0, 1, 0, 1, 1, 1, 1, 1, 1, 1, 1, 1, 1, 0, 1, 0, 1, 1, 1, 1,\n",
       "       1, 1, 1, 1, 1, 1, 1, 1, 1, 1, 1, 1, 1, 1, 1, 0, 0, 1, 0, 0, 1, 1,\n",
       "       1, 0, 0, 1, 0, 1, 1, 0, 0, 1, 1, 1, 1, 0, 1, 0, 1, 1, 1, 0, 1, 0,\n",
       "       0, 0, 0, 0, 1, 1, 1, 0, 0, 0, 0, 0, 1, 1, 1, 1, 0, 1, 0, 1, 1, 1,\n",
       "       1, 0, 1, 0, 0, 1, 1, 1, 0, 0, 0, 1, 1, 0, 0, 0, 0, 1, 0, 1, 1, 1,\n",
       "       1, 1, 1, 0, 0, 0, 1, 0, 1, 1, 1, 0, 0, 1, 1, 1, 1, 1, 1, 1, 1, 1,\n",
       "       1, 1, 1, 1, 1, 1, 1, 1, 1, 1, 1, 1, 1, 1, 1, 1, 1, 1, 1, 1, 1, 1,\n",
       "       1, 1, 1, 1, 1, 1, 1, 1, 1, 1, 1, 1, 1, 1, 1, 1, 1, 1, 1, 1, 1, 1,\n",
       "       1, 1, 1, 1, 1, 1, 1, 1, 1, 1, 1, 1, 1, 1, 1, 1, 1, 1, 1, 1, 1, 1,\n",
       "       1, 1, 1, 1, 1, 1, 1, 1, 1, 1, 1, 1, 1, 1, 1, 1, 1, 1, 1, 1, 1, 1,\n",
       "       1, 1, 1, 1, 1, 1, 1, 1, 1, 1, 1, 1, 1, 1, 1, 1, 1, 1, 1, 1, 1, 1,\n",
       "       1, 1, 1, 1, 1, 1, 1, 1, 1, 1, 1, 1, 1, 1, 1, 1, 1, 1, 1, 1, 1, 1,\n",
       "       1, 1, 1, 1, 1, 1, 1, 1, 1, 1, 1, 1, 1, 1, 0, 1, 0, 0, 1, 1, 1, 1,\n",
       "       1, 1, 1, 1, 1, 1, 1, 1, 0, 1, 1, 1, 1, 1, 1, 1, 1, 1, 1, 1, 1, 1,\n",
       "       1, 1, 1, 1, 1, 1, 1, 1, 1, 1, 1, 1, 1, 1, 1, 1, 1, 1, 1, 1, 1, 1,\n",
       "       1, 1, 1, 1, 1, 1, 1, 1, 1, 1, 1, 1, 1, 1, 1, 1, 1, 1, 1, 1, 1, 1,\n",
       "       1, 1, 1, 1, 1, 1, 1, 1, 1, 1, 1, 1, 1, 1, 1, 1, 1, 1, 1, 1, 1, 1,\n",
       "       1, 1, 1, 1, 1, 1, 1, 1, 1, 1, 1, 1, 1, 1, 1, 1, 1, 1, 1, 1, 1, 1,\n",
       "       1, 1, 1, 1, 1, 1, 1, 1, 1, 1, 1, 1, 1, 1, 1, 1, 1, 1, 1, 1, 1, 1,\n",
       "       1, 1, 1, 1, 1, 1, 1, 1, 1, 1, 1, 1, 1, 1, 1, 1, 1, 1, 1, 1, 1, 1,\n",
       "       1, 1, 1, 1, 1, 1, 1, 1, 1, 1, 1, 1, 1, 1, 1, 1, 1, 1, 1, 1, 1, 1,\n",
       "       1, 1, 1, 1, 1, 1, 1, 1, 1, 1, 1, 1, 1, 1, 1, 1, 1, 1, 1, 1, 1, 1,\n",
       "       1, 1, 1, 1, 1, 1, 1, 1, 1, 1, 1, 1, 1, 1, 1, 1, 1, 1, 1, 1, 1, 1,\n",
       "       1, 1, 1, 1, 1, 1, 1, 1], dtype=int64)"
      ]
     },
     "execution_count": 62,
     "metadata": {},
     "output_type": "execute_result"
    }
   ],
   "source": [
    "# Check was is in predicted_categories\n",
    "predicted_categories"
   ]
  },
  {
   "cell_type": "code",
   "execution_count": 63,
   "metadata": {
    "id": "5eRfq3qzTc9m",
    "outputId": "d2986c9f-de45-4889-a230-520fbcb28eba"
   },
   "outputs": [
    {
     "data": {
      "text/plain": [
       "624"
      ]
     },
     "execution_count": 63,
     "metadata": {},
     "output_type": "execute_result"
    }
   ],
   "source": [
    "# Check the length of predicted_categories\n",
    "len(predicted_categories)"
   ]
  },
  {
   "cell_type": "code",
   "execution_count": 64,
   "metadata": {
    "id": "yjNU-RGtTc9q",
    "outputId": "af45f3a4-cd81-48b9-ce11-1336b9417869"
   },
   "outputs": [
    {
     "data": {
      "image/png": "[encoded data removed]",
      "text/plain": [
       "<Figure size 432x288 with 1 Axes>"
      ]
     },
     "metadata": {
      "needs_background": "light"
     },
     "output_type": "display_data"
    },
    {
     "name": "stdout",
     "output_type": "stream",
     "text": [
      "There are 234 Class 0 images and 390 of Class 1 in folder ./Data/capstone/test/.\n"
     ]
    }
   ],
   "source": [
    "# Plot the count of images in the test set\n",
    "plot_count(TEST_PATH)"
   ]
  },
  {
   "cell_type": "code",
   "execution_count": 118,
   "metadata": {
    "id": "CnhD4j_0Tc9r",
    "outputId": "80eb5eee-5731-4aa0-bef3-4a441b676178"
   },
   "outputs": [
    {
     "name": "stdout",
     "output_type": "stream",
     "text": [
      "There are 122 Class 0 and 502 Class 1 predictied images.\n"
     ]
    },
    {
     "data": {
      "image/png": "[encoded data removed]",
      "text/plain": [
       "<Figure size 432x288 with 1 Axes>"
      ]
     },
     "metadata": {
      "needs_background": "light"
     },
     "output_type": "display_data"
    }
   ],
   "source": [
    "# Plot the count of the predicted classes in the test set\n",
    "class0 = 0\n",
    "class1 = 0\n",
    "for i in range(len(predicted_categories)):\n",
    "    if predicted_categories[i] == 0:\n",
    "        class0 += 1\n",
    "    else:\n",
    "        class1 += 1\n",
    "plt.bar(['Class 0','Class 1'],[class0, class1], width = .5);\n",
    "plt.title(f'Predicted Classes');\n",
    "plt.xlabel('Classes');\n",
    "plt.ylabel('# Images');\n",
    "print(f'There are {class0} Class 0 and {class1} Class 1 predictied images.')    \n",
    "    \n",
    "    "
   ]
  },
  {
   "cell_type": "code",
   "execution_count": 124,
   "metadata": {
    "id": "cGW2rXTATc9r",
    "outputId": "be750596-35b9-4081-a03a-ea4f1552d030"
   },
   "outputs": [
    {
     "name": "stdout",
     "output_type": "stream",
     "text": [
      "Difference of Class 1 between the test and predicted sets was: 112\n"
     ]
    }
   ],
   "source": [
    "print(\"Difference of Class 1 between the test and predicted sets was:\", class1 - np.count_nonzero(y_test==1))"
   ]
  },
  {
   "cell_type": "markdown",
   "metadata": {
    "id": "YRdblQ3PTc9s"
   },
   "source": [
    "In comparison to the original test set, the model predicted higher class 1 images meaning that it flagged more images with pneumonia.  Let's create a confusion matrix to better visualize the results."
   ]
  },
  {
   "cell_type": "code",
   "execution_count": 67,
   "metadata": {
    "id": "RWJyiuJHTc9t",
    "outputId": "46ae43d2-c871-48a3-b824-ef59d96db2d1"
   },
   "outputs": [
    {
     "data": {
      "text/plain": [
       "array([[118, 116],\n",
       "       [  4, 386]], dtype=int64)"
      ]
     },
     "execution_count": 67,
     "metadata": {},
     "output_type": "execute_result"
    }
   ],
   "source": [
    "from sklearn.metrics import  ConfusionMatrixDisplay, confusion_matrix\n",
    "\n",
    "# Generate confusion matrix\n",
    "cf_matrix = confusion_matrix(y_test, predicted_categories)\n",
    "cf_matrix"
   ]
  },
  {
   "cell_type": "code",
   "execution_count": 68,
   "metadata": {
    "id": "-rZ78UzhTc9u",
    "outputId": "10d1c9de-44aa-4d77-f8c8-f56a0f1e8fa8"
   },
   "outputs": [
    {
     "data": {
      "text/html": [
       "<div>\n",
       "<style scoped>\n",
       "    .dataframe tbody tr th:only-of-type {\n",
       "        vertical-align: middle;\n",
       "    }\n",
       "\n",
       "    .dataframe tbody tr th {\n",
       "        vertical-align: top;\n",
       "    }\n",
       "\n",
       "    .dataframe thead th {\n",
       "        text-align: right;\n",
       "    }\n",
       "</style>\n",
       "<table border=\"1\" class=\"dataframe\">\n",
       "  <thead>\n",
       "    <tr style=\"text-align: right;\">\n",
       "      <th></th>\n",
       "      <th>Predicted Normal</th>\n",
       "      <th>Predicted Pneumonia</th>\n",
       "    </tr>\n",
       "  </thead>\n",
       "  <tbody>\n",
       "    <tr>\n",
       "      <th>True Normal</th>\n",
       "      <td>118</td>\n",
       "      <td>116</td>\n",
       "    </tr>\n",
       "    <tr>\n",
       "      <th>True Pneumonia</th>\n",
       "      <td>4</td>\n",
       "      <td>386</td>\n",
       "    </tr>\n",
       "  </tbody>\n",
       "</table>\n",
       "</div>"
      ],
      "text/plain": [
       "                Predicted Normal  Predicted Pneumonia\n",
       "True Normal                  118                  116\n",
       "True Pneumonia                 4                  386"
      ]
     },
     "metadata": {},
     "output_type": "display_data"
    }
   ],
   "source": [
    "# label rows and columns\n",
    "cf_df = pd.DataFrame(\n",
    "    cf_matrix, \n",
    "    columns=[\"Predicted Normal\", \"Predicted Pneumonia\"],\n",
    "    index=[\"True Normal\", \"True Pneumonia\"]\n",
    ")\n",
    "\n",
    "display(cf_df)"
   ]
  },
  {
   "cell_type": "code",
   "execution_count": 69,
   "metadata": {
    "id": "SHHZGc2JTc9v",
    "outputId": "91cb7006-b885-461c-bf21-ab2c70c7403e"
   },
   "outputs": [
    {
     "data": {
      "image/png": "[encoded data removed]",
      "text/plain": [
       "<Figure size 432x288 with 2 Axes>"
      ]
     },
     "metadata": {
      "needs_background": "light"
     },
     "output_type": "display_data"
    }
   ],
   "source": [
    "# the function expects the estimator, inputs and target as parameters\n",
    "# plot_confusion_matrix(pneumonia_model, X_test, y_test); # ValueError: plot_confusion_matrix only supports classifiers so use below instead\n",
    "\n",
    "labels =[\"Normal\", \"Pneumonia\"]\n",
    "\n",
    "disp = ConfusionMatrixDisplay(confusion_matrix=cf_matrix, display_labels=labels)\n",
    "disp.plot(cmap=plt.cm.Blues)\n",
    "plt.show()"
   ]
  },
  {
   "cell_type": "code",
   "execution_count": 70,
   "metadata": {
    "id": "DSpXnjqMTc9w",
    "outputId": "4fc4ee47-7270-498a-c177-49656bef1740"
   },
   "outputs": [
    {
     "name": "stdout",
     "output_type": "stream",
     "text": [
      "              precision    recall  f1-score   support\n",
      "\n",
      "           0       0.97      0.50      0.66       234\n",
      "           1       0.77      0.99      0.87       390\n",
      "\n",
      "    accuracy                           0.81       624\n",
      "   macro avg       0.87      0.75      0.76       624\n",
      "weighted avg       0.84      0.81      0.79       624\n",
      "\n"
     ]
    }
   ],
   "source": [
    "report_initial = classification_report(y_test, predicted_categories)\n",
    "print(report_initial)"
   ]
  },
  {
   "cell_type": "markdown",
   "metadata": {},
   "source": [
    "As displayed in the confusion matrix and the classification report, there was a high number of correctly classified images with Pneumonia (Class 1).  However, there were 116 images that were classified as Class 1 as well from the Normal (Class 0) category.  It is also important to note that 4 images of the Class 1 category were predicted to being normal.\n",
    "\n",
    "Since this problem is about detecting disease and illness of an x-ray image, it is desireable to have a high recall so that the model does not miss true cases or true positives of the Class 1 category at the expense of detecting false negatives of Class 0.  It would be better to detect more false negative so that the images can be verified by a trained professional rather than miss a high number of images that were truly part of Class 1 or in this case, had pneumonia.\n",
    "\n",
    "Next steps would be to try to use other hyperparameters make the model more accurate in detecting Class 0 vs Class 1 and to also try other parameters in the data augmentation step.  More images would maybe assist as well to better train the model."
   ]
  },
  {
   "cell_type": "code",
   "execution_count": 72,
   "metadata": {
    "id": "shqR80qQTc9w",
    "outputId": "739e6d9c-0ec9-4f07-a9b4-48397cc0c8fc"
   },
   "outputs": [
    {
     "name": "stdout",
     "output_type": "stream",
     "text": [
      "1/1 [==============================] - 0s 0s/step - loss: 1.1654 - acc: 0.7000\n",
      "[1.1653763055801392, 0.699999988079071]\n"
     ]
    }
   ],
   "source": [
    "# Get evaluation socre of the test set\n",
    "print(pneumonia_model.evaluate(X_test,y_test2))"
   ]
  },
  {
   "cell_type": "markdown",
   "metadata": {
    "id": "JxvRvafND0cR"
   },
   "source": [
    "### Bonus: Making Predictions\n",
    "\n",
    "Our model is trained and ready to go. Now we can take images and ask it to predict whether it is:\n",
    "- Class 0: Normal\n",
    "- Class 1: Pneumonia\n",
    "\n",
    "As a proof of concept we'll just take an image from our training set and pass it through."
   ]
  },
  {
   "cell_type": "markdown",
   "metadata": {
    "id": "I_yOOj6nD0cR"
   },
   "source": [
    "You'll need to install [ cv2](https://anaconda.org/anaconda/opencv).\n",
    "\n",
    "When you have that, import these:"
   ]
  },
  {
   "cell_type": "code",
   "execution_count": 73,
   "metadata": {
    "id": "hrK-FMAZD0cS"
   },
   "outputs": [],
   "source": [
    "# We'll need a couple more packages to work with images.\n",
    "\n",
    "# This package lets us import a single image at a time. It's built into matplotlib\n",
    "import matplotlib.image as mpimg\n",
    "\n",
    "# Package allowing us to resize an image (jpg/png for example)\n",
    "#!pip install opencv-python\n",
    "# import cv2"
   ]
  },
  {
   "cell_type": "markdown",
   "metadata": {
    "id": "-wt1IhXUD0cS"
   },
   "source": [
    "Now let's choose a file to make a prediction for. We can do that by changing the filepath to the image we'd like to use. "
   ]
  },
  {
   "cell_type": "code",
   "execution_count": 104,
   "metadata": {
    "id": "vkAVil_RD0cS"
   },
   "outputs": [],
   "source": [
    "# Select your image by providing the relative path:\n",
    "img = mpimg.imread('./Data/capstone/test/NORMAL/IM-0013-0001.jpeg')"
   ]
  },
  {
   "cell_type": "code",
   "execution_count": 89,
   "metadata": {
    "id": "IuxSZ1YoTc95",
    "scrolled": true
   },
   "outputs": [
    {
     "data": {
      "text/plain": [
       "(2155, 2444)"
      ]
     },
     "execution_count": 89,
     "metadata": {},
     "output_type": "execute_result"
    }
   ],
   "source": [
    "img.shape"
   ]
  },
  {
   "cell_type": "markdown",
   "metadata": {
    "id": "FMqr9NI5D0cS"
   },
   "source": [
    "The image may not be the right size for our model. Remember that it is expecting a 128x128x3 input. Let's resize the images resolution to be 128x128."
   ]
  },
  {
   "cell_type": "code",
   "execution_count": 105,
   "metadata": {
    "id": "8U43d-_hD0cS"
   },
   "outputs": [],
   "source": [
    "# Resize the image to the required resolution of 128 by 128. \n",
    "res = cv2.resize(img, dsize=(128, 128), interpolation=cv2.INTER_CUBIC)\n",
    "res = cv2.cvtColor(res,cv2.COLOR_GRAY2RGB)"
   ]
  },
  {
   "cell_type": "code",
   "execution_count": 106,
   "metadata": {
    "id": "XgmBW5ceTc96"
   },
   "outputs": [],
   "source": [
    "# turn the image into an array form which is what our model needs as an input. \n",
    "pred_img = tf.keras.preprocessing.image.img_to_array(res, data_format=None, dtype=None)"
   ]
  },
  {
   "cell_type": "code",
   "execution_count": 107,
   "metadata": {
    "id": "QNoC8CROTc97"
   },
   "outputs": [
    {
     "data": {
      "text/plain": [
       "array([[2.313716e-13, 1.000000e+00]], dtype=float32)"
      ]
     },
     "execution_count": 107,
     "metadata": {},
     "output_type": "execute_result"
    }
   ],
   "source": [
    "# Run the prediction with our pneumonia_model! \n",
    "pneumonia_model.predict(pred_img.reshape(1,128,128,3)) # Reshape for 4D as tensorflow expects."
   ]
  },
  {
   "cell_type": "code",
   "execution_count": 93,
   "metadata": {
    "id": "e13awp9ITc97"
   },
   "outputs": [
    {
     "data": {
      "text/plain": [
       "(128, 128, 3)"
      ]
     },
     "execution_count": 93,
     "metadata": {},
     "output_type": "execute_result"
    }
   ],
   "source": [
    "# Check the shape of res to see if was converted to the settings that were applied when resized and changed to RGB\n",
    "res.shape"
   ]
  },
  {
   "cell_type": "markdown",
   "metadata": {
    "id": "SqnU4AYLD0cS"
   },
   "source": [
    "To see confirm that this works, and just out of curiosity, we can take a peek at the resized image."
   ]
  },
  {
   "cell_type": "code",
   "execution_count": 108,
   "metadata": {},
   "outputs": [
    {
     "data": {
      "image/png": "[encoded data removed]",
      "text/plain": [
       "<Figure size 432x288 with 1 Axes>"
      ]
     },
     "metadata": {
      "needs_background": "light"
     },
     "output_type": "display_data"
    }
   ],
   "source": [
    "imgplot = plt.imshow(res)"
   ]
  },
  {
   "cell_type": "code",
   "execution_count": 95,
   "metadata": {
    "id": "nPSPiuc4Tc98"
   },
   "outputs": [],
   "source": [
    "#img2 = mpimg.imread('./Data/capstone/train/pneumonia/person1_bacteria_2.jpeg')"
   ]
  },
  {
   "cell_type": "code",
   "execution_count": 96,
   "metadata": {
    "id": "fGI8BkhGTc9-",
    "scrolled": true
   },
   "outputs": [],
   "source": [
    "# preparing an image to be predicted for one of the test casess in the Pneumonia class\n",
    "img2 = mpimg.imread('./Data/capstone/test/PNEUMONIA/person19_virus_50.jpeg')\n",
    "res2 = cv2.resize(img2, dsize=(128, 128), interpolation=cv2.INTER_CUBIC)\n",
    "res2 = cv2.cvtColor(res2,cv2.COLOR_GRAY2RGB)"
   ]
  },
  {
   "cell_type": "code",
   "execution_count": 97,
   "metadata": {
    "id": "gHqJD03fD0cT"
   },
   "outputs": [],
   "source": [
    "# turn the image into an array form which is what our model needs as an input. \n",
    "pred_img = tf.keras.preprocessing.image.img_to_array(res2, data_format=None, dtype=None)"
   ]
  },
  {
   "cell_type": "code",
   "execution_count": 98,
   "metadata": {
    "id": "wM5kSiwZD0cT"
   },
   "outputs": [
    {
     "data": {
      "text/plain": [
       "array([[0., 1.]], dtype=float32)"
      ]
     },
     "execution_count": 98,
     "metadata": {},
     "output_type": "execute_result"
    }
   ],
   "source": [
    "# Run the prediction with our pneumonia_model! \n",
    "pneumonia_model.predict(pred_img.reshape(1,128,128,3)) # Reshape for 4D as tensorflow expects."
   ]
  },
  {
   "cell_type": "code",
   "execution_count": 112,
   "metadata": {
    "id": "QMERExY-Tc-B"
   },
   "outputs": [
    {
     "data": {
      "image/png": "[encoded data removed]",
      "text/plain": [
       "<Figure size 432x288 with 1 Axes>"
      ]
     },
     "metadata": {
      "needs_background": "light"
     },
     "output_type": "display_data"
    }
   ],
   "source": [
    "imgplot = plt.imshow(res2)"
   ]
  },
  {
   "cell_type": "code",
   "execution_count": 110,
   "metadata": {},
   "outputs": [
    {
     "data": {
      "text/plain": [
       "array([[2.313716e-13, 1.000000e+00]], dtype=float32)"
      ]
     },
     "execution_count": 110,
     "metadata": {},
     "output_type": "execute_result"
    }
   ],
   "source": [
    "# Here is an example of an incorrectly predicted normal case\n",
    "img3 = mpimg.imread('./Data/capstone/test/NORMAL/IM-0013-0001.jpeg')\n",
    "res3 = cv2.resize(img3, dsize=(128, 128), interpolation=cv2.INTER_CUBIC)\n",
    "res3 = cv2.cvtColor(res3,cv2.COLOR_GRAY2RGB)\n",
    "pred_img = tf.keras.preprocessing.image.img_to_array(res3, data_format=None, dtype=None)\n",
    "pneumonia_model.predict(pred_img.reshape(1,128,128,3))"
   ]
  },
  {
   "cell_type": "code",
   "execution_count": 111,
   "metadata": {},
   "outputs": [
    {
     "data": {
      "image/png": "[encoded data removed]",
      "text/plain": [
       "<Figure size 432x288 with 1 Axes>"
      ]
     },
     "metadata": {
      "needs_background": "light"
     },
     "output_type": "display_data"
    }
   ],
   "source": [
    "imgplot = plt.imshow(res3)"
   ]
  },
  {
   "cell_type": "markdown",
   "metadata": {},
   "source": [
    "It is possible that because this x-ray image does not look as clear in the areas of the lungs that the model detected that it was a Class 1 category.  "
   ]
  }
 ],
 "metadata": {
  "colab": {
   "name": "Capstone - Transfer Learning.ipynb",
   "provenance": []
  },
  "kernelspec": {
   "display_name": "Python 3 (ipykernel)",
   "language": "python",
   "name": "python3"
  },
  "language_info": {
   "codemirror_mode": {
    "name": "ipython",
    "version": 3
   },
   "file_extension": ".py",
   "mimetype": "text/x-python",
   "name": "python",
   "nbconvert_exporter": "python",
   "pygments_lexer": "ipython3",
   "version": "3.8.13"
  }
 },
 "nbformat": 4,
 "nbformat_minor": 1
}
